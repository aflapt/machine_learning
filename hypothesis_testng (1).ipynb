{
 "cells": [
  {
   "cell_type": "markdown",
   "id": "1711bfaf-1106-4679-adee-b588d43950de",
   "metadata": {},
   "source": [
    "# hypothesis testing"
   ]
  },
  {
   "cell_type": "markdown",
   "id": "31fe4c5f-4874-46d4-be46-c21b6ea98815",
   "metadata": {},
   "source": [
    "**Q1.Suppose a child psychologist claims that the average time working mothers spend talking to their children is at least 11 minutes per day. You conduct a random sample of 1000 working mothers and find they spend an average of 11.5 minutes per day talking with their children. Assume prior research suggests the population standard deviation is 2.3 minutes.Conduct a test with a level of significance of alpha = 0.05.**"
   ]
  },
  {
   "cell_type": "markdown",
   "id": "a564770e-9da5-4808-a8f5-d90b1689f257",
   "metadata": {},
   "source": [
    "## State the hypothesis"
   ]
  },
  {
   "cell_type": "markdown",
   "id": "3144c76a-fe4e-4a87-a80f-bd34dc693f5e",
   "metadata": {},
   "source": [
    "**null hypothesis**"
   ]
  },
  {
   "cell_type": "markdown",
   "id": "39cb49d5-58f2-4814-a4cc-0cda04ec6f4f",
   "metadata": {},
   "source": [
    "Ho = μ ≤ 11 minutes\r\n",
    "\r\n"
   ]
  },
  {
   "cell_type": "markdown",
   "id": "6cc30b3b-9305-4ebd-902a-fc7fdfe5d648",
   "metadata": {},
   "source": [
    "**alternate hypothesis**"
   ]
  },
  {
   "cell_type": "markdown",
   "id": "ccd48c7d-4ad0-49d8-8a7d-46e209b43a10",
   "metadata": {},
   "source": [
    "Ha = μ > 11 minutes\n",
    "\n"
   ]
  },
  {
   "cell_type": "markdown",
   "id": "734b7ed0-9a36-4039-8059-7e15e4a6a680",
   "metadata": {},
   "source": [
    "##  Set the significance level"
   ]
  },
  {
   "cell_type": "markdown",
   "id": "e7a34a6c-9d23-45ad-a63d-4542366515b5",
   "metadata": {},
   "source": [
    "α = 0.05 minutes\n",
    "\n"
   ]
  },
  {
   "cell_type": "markdown",
   "id": "5873c604-57cf-4264-b830-8a32e32d5500",
   "metadata": {},
   "source": [
    "## Calculate the test statistic: We'll use the z-test statistic formula\n"
   ]
  },
  {
   "cell_type": "markdown",
   "id": "8759eaa2-5463-4b6b-870c-5504d6cf5885",
   "metadata": {},
   "source": [
    "x̄ = 11.5 minutes (sample mean)\n",
    "μ = 11 minutes (population mean under the null hypothesis)\n",
    "σ = 2.3 minutes (population standard deviation)\n",
    "n = 1000 (sample size)"
   ]
  },
  {
   "cell_type": "markdown",
   "id": "6acfdc76-1ec6-4a90-ba47-4260727d7c4c",
   "metadata": {},
   "source": [
    "Z=(x̄ - μ)/(σ/√n)\n",
    "\n"
   ]
  },
  {
   "cell_type": "code",
   "execution_count": 3,
   "id": "577b05ab-7bbd-4844-9ccc-92a471815b32",
   "metadata": {},
   "outputs": [],
   "source": [
    "import math"
   ]
  },
  {
   "cell_type": "code",
   "execution_count": 1,
   "id": "2d81d472-539f-4be5-b4b5-c80c78f5b91b",
   "metadata": {},
   "outputs": [],
   "source": [
    "alpha = 0.05\n",
    "std = 2.3\n",
    "n =1000\n",
    "n_mean = 11.5\n",
    "populataion_mean =11"
   ]
  },
  {
   "cell_type": "code",
   "execution_count": 4,
   "id": "a6234814-87b5-4c20-b41b-17ee9fb12a91",
   "metadata": {},
   "outputs": [],
   "source": [
    "#Hypothesis testing\n",
    "\n",
    "z_test = (n_mean - populataion_mean) / (std/math.sqrt(n))"
   ]
  },
  {
   "cell_type": "code",
   "execution_count": 2,
   "id": "8bb357e0-d0e5-4ae9-9ef8-edac255de56b",
   "metadata": {},
   "outputs": [
    {
     "data": {
      "text/plain": [
       "6.874516652539955"
      ]
     },
     "execution_count": 2,
     "metadata": {},
     "output_type": "execute_result"
    }
   ],
   "source": [
    "Z=(11.5-11)/(2.3)*(math.sqrt(1000))\n",
    "Z"
   ]
  },
  {
   "cell_type": "code",
   "execution_count": 5,
   "id": "bb0fa370-636b-48fb-a1d7-c13918f6a857",
   "metadata": {},
   "outputs": [
    {
     "name": "stdout",
     "output_type": "stream",
     "text": [
      "Critical value: 1.6448536269514722\n"
     ]
    }
   ],
   "source": [
    "import scipy.stats as st\n",
    "\n",
    "\n",
    "alpha = 0.05\n",
    "\n",
    "\n",
    "z_critical = st.norm.ppf(1 - alpha)\n",
    "\n",
    "print(\"Critical value:\", z_critical)"
   ]
  },
  {
   "cell_type": "markdown",
   "id": "41a7eba6-a7ef-4140-97a3-9c3132b7d492",
   "metadata": {},
   "source": [
    "critical value for a z-score corresponding to an alpha of 0.05 from z-distribution table is 1.645.\n",
    "\n"
   ]
  },
  {
   "cell_type": "markdown",
   "id": "02e7e21c-a9ab-46d0-b06c-3c98d1ae7bb3",
   "metadata": {},
   "source": [
    "SINCE OUR CALCULATED Z-VALUE 6.8745 WHICH GREATER THAN THE CRITICAL VALUE 1.645 WE REJECT THE NULL HYPOTHESIS"
   ]
  },
  {
   "cell_type": "code",
   "execution_count": null,
   "id": "451c2cf2-d641-4157-997d-452e7f897562",
   "metadata": {},
   "outputs": [],
   "source": []
  },
  {
   "cell_type": "markdown",
   "id": "ade50268-d6a4-408e-a20a-a2757551e668",
   "metadata": {},
   "source": [
    "**Q2. A coffee shop claims that their average wait time for customers is less than 5 minutes. To test this claim, a sample of 40 customers is taken, and their wait times are recorded. The sample mean wait time is found to be 4.6 minutes with a standard deviation of 0.8 minutes. Perform a hypothesis test at a significance level of 0.05 and determine whether there is enough evidence to support the coffee shop's claim.**"
   ]
  },
  {
   "cell_type": "markdown",
   "id": "9e116e7b-d69e-469f-b7f8-3180c8ffaf82",
   "metadata": {},
   "source": [
    "**null hypothesis**"
   ]
  },
  {
   "cell_type": "markdown",
   "id": "2aa8b9a0-dd36-4912-a88b-dc43443a7a20",
   "metadata": {},
   "source": [
    "Ho = μ > 5 minutes\n",
    "\n"
   ]
  },
  {
   "cell_type": "markdown",
   "id": "b1402e72-f23a-465d-9878-acc16bbd255f",
   "metadata": {},
   "source": [
    "**alternate hypothesis**"
   ]
  },
  {
   "cell_type": "markdown",
   "id": "8fea4722-8002-4b7e-8840-8772c4704c41",
   "metadata": {},
   "source": [
    " Ha = μ <5 minutes\n",
    "\n"
   ]
  },
  {
   "cell_type": "markdown",
   "id": "eabb620e-36f9-442e-b41f-8012286f429a",
   "metadata": {},
   "source": [
    "x̄ = 4.6 minutes (sample mean)\n",
    "\n",
    "μ = 5 minutes (population mean)\n",
    "\n",
    "σ = 0.8 minutes (sample standard deviation)\n",
    "\n",
    "n = 40 (sample size)\n",
    "\n",
    "α = 0.05 (significance level)\n",
    "\n",
    "Degree of freedom(n-1) = 39"
   ]
  },
  {
   "cell_type": "code",
   "execution_count": 6,
   "id": "451fab58-f5c6-4199-9c20-a3eab98902e3",
   "metadata": {},
   "outputs": [],
   "source": [
    "population_tmean = 5\n",
    "sample_tmean =4.6\n",
    "sample_size = 40\n",
    "std_t = 0.8\n",
    "alpha = 0.05"
   ]
  },
  {
   "cell_type": "markdown",
   "id": "d4566cfe-5404-4a79-b658-3362a9646595",
   "metadata": {},
   "source": [
    "The t-test works well when we don't know the population standard deviation, especially for smaller groups, usually less than 30. But it's still good to use even for bigger groups, over 30. This is because of the Central Limit Theorem, which says that as our group size gets bigger, our average values act more like they're from a normal distribution. So, no matter if our group is small or big, the t-test is a reliable way to check things."
   ]
  },
  {
   "cell_type": "code",
   "execution_count": 7,
   "id": "4eb6ae4b-0628-49e0-9913-984bbaffee85",
   "metadata": {},
   "outputs": [
    {
     "data": {
      "text/plain": [
       "-3.162277660168382"
      ]
     },
     "execution_count": 7,
     "metadata": {},
     "output_type": "execute_result"
    }
   ],
   "source": [
    "t_test =  (sample_tmean - population_tmean) / (0.8/math.sqrt(sample_size))\n",
    "t_test"
   ]
  },
  {
   "cell_type": "code",
   "execution_count": null,
   "id": "0d9455ea-a768-41de-817d-acfead3655bc",
   "metadata": {},
   "outputs": [],
   "source": [
    "from scipy.stats import t\n",
    "\n",
    "# Degrees of freedom\n",
    "df = 40 - 1  # Sample size minus 1\n",
    "\n",
    "\n",
    "alpha = 0.05\n",
    "\n",
    "# Find critical value\n",
    "t_critical = t.ppf(1 - alpha, df)\n",
    "\n",
    "print(\"Critical value:\", t_critical)"
   ]
  },
  {
   "cell_type": "markdown",
   "id": "e2144a06-e944-42e7-80d2-75f016f44bf3",
   "metadata": {},
   "source": [
    "t = (x̄ - μ) / (σ / √n)\n",
    "\n"
   ]
  },
  {
   "cell_type": "markdown",
   "id": "feec81d0-353f-493c-9ffc-3707db2c2d80",
   "metadata": {},
   "source": [
    "Since our calculated t-value -3.162 which is less than the critical value -1.645, we reject the null hypothesis."
   ]
  },
  {
   "cell_type": "code",
   "execution_count": null,
   "id": "078ce14e-aafb-4b47-b093-5a450dbbbe83",
   "metadata": {},
   "outputs": [],
   "source": []
  }
 ],
 "metadata": {
  "kernelspec": {
   "display_name": "Python 3 (ipykernel)",
   "language": "python",
   "name": "python3"
  },
  "language_info": {
   "codemirror_mode": {
    "name": "ipython",
    "version": 3
   },
   "file_extension": ".py",
   "mimetype": "text/x-python",
   "name": "python",
   "nbconvert_exporter": "python",
   "pygments_lexer": "ipython3",
   "version": "3.11.5"
  }
 },
 "nbformat": 4,
 "nbformat_minor": 5
}
