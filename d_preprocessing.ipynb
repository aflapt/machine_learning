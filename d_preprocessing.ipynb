{
 "cells": [
  {
   "cell_type": "markdown",
   "id": "f4cea3b8-074f-4cac-9d5c-fb02e1ceaaf0",
   "metadata": {},
   "source": [
    "ML - Task3 - Data Preprocessing\n",
    "Objective:\n",
    " The main objective of this project is to design and implement a robust data preprocessing system that addresses common challenges such as missing values,\n",
    "outliers, inconsistent formatting, and noise. By performing effective data preprocessing, the project aims to enhance the quality, reliability, \n",
    "and usefulness of the data for machine learning.\n",
    "Dataset:     Dataset for Data preprocessing\n",
    "Key Components to be fulfilled:\n",
    "Data Exploration:   Explore the data, list down the unique values in each feature and find its length. Perform the statistical analysis and renaming \n",
    "    of the columns.\n",
    "Data Cleaning: \n",
    "Find the missing and inappropriate values, treat them appropriately. Remove all duplicate rows. Find the outliers.\n",
    "Replace the value 0 in age as NaN\n",
    "Treat the null values in all columns using any measures(removing/ replace the values with mean/median/mode)\n",
    "Data Analysis:\n",
    "Filter the data with age >40 and salary<5000\n",
    "Plot the chart with age and salary\n",
    "Count the number of people from each place and represent it visually\n",
    "Data Encoding:\n",
    "Convert categorical variables into numerical representations using techniques such as one-hot encoding, label encoding, making them suitable for analysis by machine learning algorithms.\n",
    "Feature Scaling: \n",
    "After the process of encoding, perform the scaling of the features using standardscaler and minmaxscaler."
   ]
  },
  {
   "cell_type": "code",
   "execution_count": 2,
   "id": "fc770fe2-59fa-453c-93cf-27e94f922bd6",
   "metadata": {},
   "outputs": [],
   "source": [
    "#import libraries\n",
    "import numpy as np\n",
    "import pandas as pd\n",
    "import matplotlib.pyplot as plt\n",
    "import seaborn as sns"
   ]
  },
  {
   "cell_type": "code",
   "execution_count": 3,
   "id": "d044f941-a9e4-4ea8-902c-4ca705c19b69",
   "metadata": {},
   "outputs": [
    {
     "data": {
      "text/html": [
       "<div>\n",
       "<style scoped>\n",
       "    .dataframe tbody tr th:only-of-type {\n",
       "        vertical-align: middle;\n",
       "    }\n",
       "\n",
       "    .dataframe tbody tr th {\n",
       "        vertical-align: top;\n",
       "    }\n",
       "\n",
       "    .dataframe thead th {\n",
       "        text-align: right;\n",
       "    }\n",
       "</style>\n",
       "<table border=\"1\" class=\"dataframe\">\n",
       "  <thead>\n",
       "    <tr style=\"text-align: right;\">\n",
       "      <th></th>\n",
       "      <th>Company</th>\n",
       "      <th>Age</th>\n",
       "      <th>Salary</th>\n",
       "      <th>Place</th>\n",
       "      <th>Country</th>\n",
       "      <th>Gender</th>\n",
       "    </tr>\n",
       "  </thead>\n",
       "  <tbody>\n",
       "    <tr>\n",
       "      <th>0</th>\n",
       "      <td>TCS</td>\n",
       "      <td>20.0</td>\n",
       "      <td>NaN</td>\n",
       "      <td>Chennai</td>\n",
       "      <td>India</td>\n",
       "      <td>0</td>\n",
       "    </tr>\n",
       "    <tr>\n",
       "      <th>1</th>\n",
       "      <td>Infosys</td>\n",
       "      <td>30.0</td>\n",
       "      <td>NaN</td>\n",
       "      <td>Mumbai</td>\n",
       "      <td>India</td>\n",
       "      <td>0</td>\n",
       "    </tr>\n",
       "    <tr>\n",
       "      <th>2</th>\n",
       "      <td>TCS</td>\n",
       "      <td>35.0</td>\n",
       "      <td>2300.0</td>\n",
       "      <td>Calcutta</td>\n",
       "      <td>India</td>\n",
       "      <td>0</td>\n",
       "    </tr>\n",
       "    <tr>\n",
       "      <th>3</th>\n",
       "      <td>Infosys</td>\n",
       "      <td>40.0</td>\n",
       "      <td>3000.0</td>\n",
       "      <td>Delhi</td>\n",
       "      <td>India</td>\n",
       "      <td>0</td>\n",
       "    </tr>\n",
       "    <tr>\n",
       "      <th>4</th>\n",
       "      <td>TCS</td>\n",
       "      <td>23.0</td>\n",
       "      <td>4000.0</td>\n",
       "      <td>Mumbai</td>\n",
       "      <td>India</td>\n",
       "      <td>0</td>\n",
       "    </tr>\n",
       "    <tr>\n",
       "      <th>...</th>\n",
       "      <td>...</td>\n",
       "      <td>...</td>\n",
       "      <td>...</td>\n",
       "      <td>...</td>\n",
       "      <td>...</td>\n",
       "      <td>...</td>\n",
       "    </tr>\n",
       "    <tr>\n",
       "      <th>143</th>\n",
       "      <td>TCS</td>\n",
       "      <td>33.0</td>\n",
       "      <td>9024.0</td>\n",
       "      <td>Calcutta</td>\n",
       "      <td>India</td>\n",
       "      <td>1</td>\n",
       "    </tr>\n",
       "    <tr>\n",
       "      <th>144</th>\n",
       "      <td>Infosys</td>\n",
       "      <td>22.0</td>\n",
       "      <td>8787.0</td>\n",
       "      <td>Calcutta</td>\n",
       "      <td>India</td>\n",
       "      <td>1</td>\n",
       "    </tr>\n",
       "    <tr>\n",
       "      <th>145</th>\n",
       "      <td>Infosys</td>\n",
       "      <td>44.0</td>\n",
       "      <td>4034.0</td>\n",
       "      <td>Delhi</td>\n",
       "      <td>India</td>\n",
       "      <td>1</td>\n",
       "    </tr>\n",
       "    <tr>\n",
       "      <th>146</th>\n",
       "      <td>TCS</td>\n",
       "      <td>33.0</td>\n",
       "      <td>5034.0</td>\n",
       "      <td>Mumbai</td>\n",
       "      <td>India</td>\n",
       "      <td>1</td>\n",
       "    </tr>\n",
       "    <tr>\n",
       "      <th>147</th>\n",
       "      <td>Infosys</td>\n",
       "      <td>22.0</td>\n",
       "      <td>8202.0</td>\n",
       "      <td>Cochin</td>\n",
       "      <td>India</td>\n",
       "      <td>0</td>\n",
       "    </tr>\n",
       "  </tbody>\n",
       "</table>\n",
       "<p>148 rows × 6 columns</p>\n",
       "</div>"
      ],
      "text/plain": [
       "     Company   Age  Salary     Place Country  Gender\n",
       "0        TCS  20.0     NaN   Chennai   India       0\n",
       "1    Infosys  30.0     NaN    Mumbai   India       0\n",
       "2        TCS  35.0  2300.0  Calcutta   India       0\n",
       "3    Infosys  40.0  3000.0     Delhi   India       0\n",
       "4        TCS  23.0  4000.0    Mumbai   India       0\n",
       "..       ...   ...     ...       ...     ...     ...\n",
       "143      TCS  33.0  9024.0  Calcutta   India       1\n",
       "144  Infosys  22.0  8787.0  Calcutta   India       1\n",
       "145  Infosys  44.0  4034.0     Delhi   India       1\n",
       "146      TCS  33.0  5034.0    Mumbai   India       1\n",
       "147  Infosys  22.0  8202.0    Cochin   India       0\n",
       "\n",
       "[148 rows x 6 columns]"
      ]
     },
     "execution_count": 3,
     "metadata": {},
     "output_type": "execute_result"
    }
   ],
   "source": [
    "url=\"C:\\\\Users\\\\afla1\\\\Downloads\\\\Employee.csv\"\n",
    "employee_data=pd.read_csv(url)\n",
    "employee_data\n"
   ]
  },
  {
   "cell_type": "markdown",
   "id": "c0ae2b83-3dcc-46ec-8f41-bf858dfa44d5",
   "metadata": {},
   "source": [
    "## datapreprocessing"
   ]
  },
  {
   "cell_type": "code",
   "execution_count": 4,
   "id": "f422d053-32d4-45d1-914d-f08e217148f5",
   "metadata": {},
   "outputs": [
    {
     "data": {
      "text/html": [
       "<div>\n",
       "<style scoped>\n",
       "    .dataframe tbody tr th:only-of-type {\n",
       "        vertical-align: middle;\n",
       "    }\n",
       "\n",
       "    .dataframe tbody tr th {\n",
       "        vertical-align: top;\n",
       "    }\n",
       "\n",
       "    .dataframe thead th {\n",
       "        text-align: right;\n",
       "    }\n",
       "</style>\n",
       "<table border=\"1\" class=\"dataframe\">\n",
       "  <thead>\n",
       "    <tr style=\"text-align: right;\">\n",
       "      <th></th>\n",
       "      <th>Company</th>\n",
       "      <th>Age</th>\n",
       "      <th>Salary</th>\n",
       "      <th>Place</th>\n",
       "      <th>Country</th>\n",
       "      <th>Gender</th>\n",
       "    </tr>\n",
       "  </thead>\n",
       "  <tbody>\n",
       "    <tr>\n",
       "      <th>0</th>\n",
       "      <td>TCS</td>\n",
       "      <td>20.0</td>\n",
       "      <td>NaN</td>\n",
       "      <td>Chennai</td>\n",
       "      <td>India</td>\n",
       "      <td>0</td>\n",
       "    </tr>\n",
       "    <tr>\n",
       "      <th>1</th>\n",
       "      <td>Infosys</td>\n",
       "      <td>30.0</td>\n",
       "      <td>NaN</td>\n",
       "      <td>Mumbai</td>\n",
       "      <td>India</td>\n",
       "      <td>0</td>\n",
       "    </tr>\n",
       "    <tr>\n",
       "      <th>2</th>\n",
       "      <td>TCS</td>\n",
       "      <td>35.0</td>\n",
       "      <td>2300.0</td>\n",
       "      <td>Calcutta</td>\n",
       "      <td>India</td>\n",
       "      <td>0</td>\n",
       "    </tr>\n",
       "    <tr>\n",
       "      <th>3</th>\n",
       "      <td>Infosys</td>\n",
       "      <td>40.0</td>\n",
       "      <td>3000.0</td>\n",
       "      <td>Delhi</td>\n",
       "      <td>India</td>\n",
       "      <td>0</td>\n",
       "    </tr>\n",
       "    <tr>\n",
       "      <th>4</th>\n",
       "      <td>TCS</td>\n",
       "      <td>23.0</td>\n",
       "      <td>4000.0</td>\n",
       "      <td>Mumbai</td>\n",
       "      <td>India</td>\n",
       "      <td>0</td>\n",
       "    </tr>\n",
       "  </tbody>\n",
       "</table>\n",
       "</div>"
      ],
      "text/plain": [
       "   Company   Age  Salary     Place Country  Gender\n",
       "0      TCS  20.0     NaN   Chennai   India       0\n",
       "1  Infosys  30.0     NaN    Mumbai   India       0\n",
       "2      TCS  35.0  2300.0  Calcutta   India       0\n",
       "3  Infosys  40.0  3000.0     Delhi   India       0\n",
       "4      TCS  23.0  4000.0    Mumbai   India       0"
      ]
     },
     "execution_count": 4,
     "metadata": {},
     "output_type": "execute_result"
    }
   ],
   "source": [
    "employee_data.head()"
   ]
  },
  {
   "cell_type": "code",
   "execution_count": 5,
   "id": "01e74a65-3a3c-4271-972a-fee4072ad1d1",
   "metadata": {},
   "outputs": [
    {
     "data": {
      "text/html": [
       "<div>\n",
       "<style scoped>\n",
       "    .dataframe tbody tr th:only-of-type {\n",
       "        vertical-align: middle;\n",
       "    }\n",
       "\n",
       "    .dataframe tbody tr th {\n",
       "        vertical-align: top;\n",
       "    }\n",
       "\n",
       "    .dataframe thead th {\n",
       "        text-align: right;\n",
       "    }\n",
       "</style>\n",
       "<table border=\"1\" class=\"dataframe\">\n",
       "  <thead>\n",
       "    <tr style=\"text-align: right;\">\n",
       "      <th></th>\n",
       "      <th>Company</th>\n",
       "      <th>Age</th>\n",
       "      <th>Salary</th>\n",
       "      <th>Place</th>\n",
       "      <th>Country</th>\n",
       "      <th>Gender</th>\n",
       "    </tr>\n",
       "  </thead>\n",
       "  <tbody>\n",
       "    <tr>\n",
       "      <th>143</th>\n",
       "      <td>TCS</td>\n",
       "      <td>33.0</td>\n",
       "      <td>9024.0</td>\n",
       "      <td>Calcutta</td>\n",
       "      <td>India</td>\n",
       "      <td>1</td>\n",
       "    </tr>\n",
       "    <tr>\n",
       "      <th>144</th>\n",
       "      <td>Infosys</td>\n",
       "      <td>22.0</td>\n",
       "      <td>8787.0</td>\n",
       "      <td>Calcutta</td>\n",
       "      <td>India</td>\n",
       "      <td>1</td>\n",
       "    </tr>\n",
       "    <tr>\n",
       "      <th>145</th>\n",
       "      <td>Infosys</td>\n",
       "      <td>44.0</td>\n",
       "      <td>4034.0</td>\n",
       "      <td>Delhi</td>\n",
       "      <td>India</td>\n",
       "      <td>1</td>\n",
       "    </tr>\n",
       "    <tr>\n",
       "      <th>146</th>\n",
       "      <td>TCS</td>\n",
       "      <td>33.0</td>\n",
       "      <td>5034.0</td>\n",
       "      <td>Mumbai</td>\n",
       "      <td>India</td>\n",
       "      <td>1</td>\n",
       "    </tr>\n",
       "    <tr>\n",
       "      <th>147</th>\n",
       "      <td>Infosys</td>\n",
       "      <td>22.0</td>\n",
       "      <td>8202.0</td>\n",
       "      <td>Cochin</td>\n",
       "      <td>India</td>\n",
       "      <td>0</td>\n",
       "    </tr>\n",
       "  </tbody>\n",
       "</table>\n",
       "</div>"
      ],
      "text/plain": [
       "     Company   Age  Salary     Place Country  Gender\n",
       "143      TCS  33.0  9024.0  Calcutta   India       1\n",
       "144  Infosys  22.0  8787.0  Calcutta   India       1\n",
       "145  Infosys  44.0  4034.0     Delhi   India       1\n",
       "146      TCS  33.0  5034.0    Mumbai   India       1\n",
       "147  Infosys  22.0  8202.0    Cochin   India       0"
      ]
     },
     "execution_count": 5,
     "metadata": {},
     "output_type": "execute_result"
    }
   ],
   "source": [
    "employee_data.tail()"
   ]
  },
  {
   "cell_type": "code",
   "execution_count": 6,
   "id": "3022879f-8d20-45a9-bc39-a027cf60ee37",
   "metadata": {},
   "outputs": [
    {
     "data": {
      "text/plain": [
       "(148, 6)"
      ]
     },
     "execution_count": 6,
     "metadata": {},
     "output_type": "execute_result"
    }
   ],
   "source": [
    "employee_data.shape"
   ]
  },
  {
   "cell_type": "code",
   "execution_count": 7,
   "id": "a032a2e1-010d-4e1c-b9a5-2725c6cd659f",
   "metadata": {},
   "outputs": [
    {
     "data": {
      "text/plain": [
       "Company     object\n",
       "Age        float64\n",
       "Salary     float64\n",
       "Place       object\n",
       "Country     object\n",
       "Gender       int64\n",
       "dtype: object"
      ]
     },
     "execution_count": 7,
     "metadata": {},
     "output_type": "execute_result"
    }
   ],
   "source": [
    "employee_data.dtypes"
   ]
  },
  {
   "cell_type": "code",
   "execution_count": 10,
   "id": "0f186ad0-ab6a-4580-bf73-98e78dc4bbc8",
   "metadata": {},
   "outputs": [
    {
     "data": {
      "text/plain": [
       "['Company', 'Age', 'Salary', 'Place', 'Country', 'Gender']"
      ]
     },
     "execution_count": 10,
     "metadata": {},
     "output_type": "execute_result"
    }
   ],
   "source": [
    "employee_data.columns.tolist()"
   ]
  },
  {
   "cell_type": "code",
   "execution_count": 8,
   "id": "31d9024a-5183-4ef5-98b1-de0be551b6b8",
   "metadata": {},
   "outputs": [
    {
     "name": "stdout",
     "output_type": "stream",
     "text": [
      "<class 'pandas.core.frame.DataFrame'>\n",
      "RangeIndex: 148 entries, 0 to 147\n",
      "Data columns (total 6 columns):\n",
      " #   Column   Non-Null Count  Dtype  \n",
      "---  ------   --------------  -----  \n",
      " 0   Company  140 non-null    object \n",
      " 1   Age      130 non-null    float64\n",
      " 2   Salary   124 non-null    float64\n",
      " 3   Place    134 non-null    object \n",
      " 4   Country  148 non-null    object \n",
      " 5   Gender   148 non-null    int64  \n",
      "dtypes: float64(2), int64(1), object(3)\n",
      "memory usage: 7.1+ KB\n"
     ]
    }
   ],
   "source": [
    "employee_data.info()"
   ]
  },
  {
   "cell_type": "code",
   "execution_count": 9,
   "id": "2ced6960-e934-4c22-a6c5-21d7e86c47a1",
   "metadata": {},
   "outputs": [
    {
     "data": {
      "text/html": [
       "<div>\n",
       "<style scoped>\n",
       "    .dataframe tbody tr th:only-of-type {\n",
       "        vertical-align: middle;\n",
       "    }\n",
       "\n",
       "    .dataframe tbody tr th {\n",
       "        vertical-align: top;\n",
       "    }\n",
       "\n",
       "    .dataframe thead th {\n",
       "        text-align: right;\n",
       "    }\n",
       "</style>\n",
       "<table border=\"1\" class=\"dataframe\">\n",
       "  <thead>\n",
       "    <tr style=\"text-align: right;\">\n",
       "      <th></th>\n",
       "      <th>Age</th>\n",
       "      <th>Salary</th>\n",
       "      <th>Gender</th>\n",
       "    </tr>\n",
       "  </thead>\n",
       "  <tbody>\n",
       "    <tr>\n",
       "      <th>count</th>\n",
       "      <td>130.000000</td>\n",
       "      <td>124.000000</td>\n",
       "      <td>148.000000</td>\n",
       "    </tr>\n",
       "    <tr>\n",
       "      <th>mean</th>\n",
       "      <td>30.484615</td>\n",
       "      <td>5312.467742</td>\n",
       "      <td>0.222973</td>\n",
       "    </tr>\n",
       "    <tr>\n",
       "      <th>std</th>\n",
       "      <td>11.096640</td>\n",
       "      <td>2573.764683</td>\n",
       "      <td>0.417654</td>\n",
       "    </tr>\n",
       "    <tr>\n",
       "      <th>min</th>\n",
       "      <td>0.000000</td>\n",
       "      <td>1089.000000</td>\n",
       "      <td>0.000000</td>\n",
       "    </tr>\n",
       "    <tr>\n",
       "      <th>25%</th>\n",
       "      <td>22.000000</td>\n",
       "      <td>3030.000000</td>\n",
       "      <td>0.000000</td>\n",
       "    </tr>\n",
       "    <tr>\n",
       "      <th>50%</th>\n",
       "      <td>32.500000</td>\n",
       "      <td>5000.000000</td>\n",
       "      <td>0.000000</td>\n",
       "    </tr>\n",
       "    <tr>\n",
       "      <th>75%</th>\n",
       "      <td>37.750000</td>\n",
       "      <td>8000.000000</td>\n",
       "      <td>0.000000</td>\n",
       "    </tr>\n",
       "    <tr>\n",
       "      <th>max</th>\n",
       "      <td>54.000000</td>\n",
       "      <td>9876.000000</td>\n",
       "      <td>1.000000</td>\n",
       "    </tr>\n",
       "  </tbody>\n",
       "</table>\n",
       "</div>"
      ],
      "text/plain": [
       "              Age       Salary      Gender\n",
       "count  130.000000   124.000000  148.000000\n",
       "mean    30.484615  5312.467742    0.222973\n",
       "std     11.096640  2573.764683    0.417654\n",
       "min      0.000000  1089.000000    0.000000\n",
       "25%     22.000000  3030.000000    0.000000\n",
       "50%     32.500000  5000.000000    0.000000\n",
       "75%     37.750000  8000.000000    0.000000\n",
       "max     54.000000  9876.000000    1.000000"
      ]
     },
     "execution_count": 9,
     "metadata": {},
     "output_type": "execute_result"
    }
   ],
   "source": [
    "employee_data.describe()"
   ]
  },
  {
   "cell_type": "code",
   "execution_count": 10,
   "id": "34939c0b-de70-444b-93fb-9c6dc3ce0b46",
   "metadata": {},
   "outputs": [
    {
     "data": {
      "text/plain": [
       "Company     8\n",
       "Age        18\n",
       "Salary     24\n",
       "Place      14\n",
       "Country     0\n",
       "Gender      0\n",
       "dtype: int64"
      ]
     },
     "execution_count": 10,
     "metadata": {},
     "output_type": "execute_result"
    }
   ],
   "source": [
    "employee_data.isnull().sum()"
   ]
  },
  {
   "cell_type": "markdown",
   "id": "607f39f5-73c9-476f-bbd8-6df9cd8c60f4",
   "metadata": {},
   "source": [
    "contains null values in **company,age,salary,place**"
   ]
  },
  {
   "cell_type": "code",
   "execution_count": 11,
   "id": "4eabb040-4b95-449e-925c-1d45a4a1315c",
   "metadata": {},
   "outputs": [],
   "source": [
    "employee_data[\"Company\"].fillna(employee_data[\"Company\"].mode()[0],inplace=True)"
   ]
  },
  {
   "cell_type": "code",
   "execution_count": 31,
   "id": "17670483-2b26-482f-a528-0d70eb98ecf2",
   "metadata": {},
   "outputs": [],
   "source": [
    "employee_data[\"Place\"].fillna(employee_data[\"Place\"].mode()[0],inplace=True)"
   ]
  },
  {
   "cell_type": "code",
   "execution_count": 32,
   "id": "10b115d6-26b6-4087-9b11-9d1d697fd354",
   "metadata": {},
   "outputs": [],
   "source": [
    "employee_data.fillna(employee_data[\"Salary\"].mean(),inplace=True)\n"
   ]
  },
  {
   "cell_type": "code",
   "execution_count": 37,
   "id": "a7b435f8-feae-4436-8ad8-3a393e170177",
   "metadata": {},
   "outputs": [],
   "source": [
    "employee_data[\"Age\"]=employee_data[\"Age\"].replace(0,np.nan)"
   ]
  },
  {
   "cell_type": "code",
   "execution_count": 38,
   "id": "f5d0085f-1cd2-4df1-98ad-0bdd366e126a",
   "metadata": {},
   "outputs": [],
   "source": [
    "employee_data[\"Age\"].fillna(employee_data[\"Age\"].median(),inplace=True)"
   ]
  },
  {
   "cell_type": "code",
   "execution_count": 12,
   "id": "c82cbbfb-24b6-41fb-8ba8-d0bf38c8c353",
   "metadata": {},
   "outputs": [
    {
     "data": {
      "text/plain": [
       "Company     0\n",
       "Age        18\n",
       "Salary     24\n",
       "Place      14\n",
       "Country     0\n",
       "Gender      0\n",
       "dtype: int64"
      ]
     },
     "execution_count": 12,
     "metadata": {},
     "output_type": "execute_result"
    }
   ],
   "source": [
    "employee_data.isnull().sum()"
   ]
  },
  {
   "cell_type": "code",
   "execution_count": 14,
   "id": "b3aab592-de44-4d92-a1db-37bcbc25ae54",
   "metadata": {},
   "outputs": [
    {
     "data": {
      "text/plain": [
       "4"
      ]
     },
     "execution_count": 14,
     "metadata": {},
     "output_type": "execute_result"
    }
   ],
   "source": [
    "employee_data.duplicated().sum()"
   ]
  },
  {
   "cell_type": "code",
   "execution_count": 15,
   "id": "67477532-897e-4acb-81fe-5502fce6cd28",
   "metadata": {},
   "outputs": [
    {
     "data": {
      "text/html": [
       "<div>\n",
       "<style scoped>\n",
       "    .dataframe tbody tr th:only-of-type {\n",
       "        vertical-align: middle;\n",
       "    }\n",
       "\n",
       "    .dataframe tbody tr th {\n",
       "        vertical-align: top;\n",
       "    }\n",
       "\n",
       "    .dataframe thead th {\n",
       "        text-align: right;\n",
       "    }\n",
       "</style>\n",
       "<table border=\"1\" class=\"dataframe\">\n",
       "  <thead>\n",
       "    <tr style=\"text-align: right;\">\n",
       "      <th></th>\n",
       "      <th>Company</th>\n",
       "      <th>Age</th>\n",
       "      <th>Salary</th>\n",
       "      <th>Place</th>\n",
       "      <th>Country</th>\n",
       "      <th>Gender</th>\n",
       "    </tr>\n",
       "  </thead>\n",
       "  <tbody>\n",
       "    <tr>\n",
       "      <th>0</th>\n",
       "      <td>TCS</td>\n",
       "      <td>20.0</td>\n",
       "      <td>NaN</td>\n",
       "      <td>Chennai</td>\n",
       "      <td>India</td>\n",
       "      <td>0</td>\n",
       "    </tr>\n",
       "    <tr>\n",
       "      <th>1</th>\n",
       "      <td>Infosys</td>\n",
       "      <td>30.0</td>\n",
       "      <td>NaN</td>\n",
       "      <td>Mumbai</td>\n",
       "      <td>India</td>\n",
       "      <td>0</td>\n",
       "    </tr>\n",
       "    <tr>\n",
       "      <th>2</th>\n",
       "      <td>TCS</td>\n",
       "      <td>35.0</td>\n",
       "      <td>2300.0</td>\n",
       "      <td>Calcutta</td>\n",
       "      <td>India</td>\n",
       "      <td>0</td>\n",
       "    </tr>\n",
       "    <tr>\n",
       "      <th>3</th>\n",
       "      <td>Infosys</td>\n",
       "      <td>40.0</td>\n",
       "      <td>3000.0</td>\n",
       "      <td>Delhi</td>\n",
       "      <td>India</td>\n",
       "      <td>0</td>\n",
       "    </tr>\n",
       "    <tr>\n",
       "      <th>4</th>\n",
       "      <td>TCS</td>\n",
       "      <td>23.0</td>\n",
       "      <td>4000.0</td>\n",
       "      <td>Mumbai</td>\n",
       "      <td>India</td>\n",
       "      <td>0</td>\n",
       "    </tr>\n",
       "  </tbody>\n",
       "</table>\n",
       "</div>"
      ],
      "text/plain": [
       "   Company   Age  Salary     Place Country  Gender\n",
       "0      TCS  20.0     NaN   Chennai   India       0\n",
       "1  Infosys  30.0     NaN    Mumbai   India       0\n",
       "2      TCS  35.0  2300.0  Calcutta   India       0\n",
       "3  Infosys  40.0  3000.0     Delhi   India       0\n",
       "4      TCS  23.0  4000.0    Mumbai   India       0"
      ]
     },
     "execution_count": 15,
     "metadata": {},
     "output_type": "execute_result"
    }
   ],
   "source": [
    "employee_data=employee_data.drop_duplicates()\n",
    "employee_data.head()"
   ]
  },
  {
   "cell_type": "code",
   "execution_count": 16,
   "id": "7b8dda42-56ae-446d-818b-70afa10651ee",
   "metadata": {},
   "outputs": [
    {
     "data": {
      "text/plain": [
       "0"
      ]
     },
     "execution_count": 16,
     "metadata": {},
     "output_type": "execute_result"
    }
   ],
   "source": [
    "employee_data.duplicated().sum()"
   ]
  },
  {
   "cell_type": "code",
   "execution_count": 17,
   "id": "5c19a697-f437-4531-874d-35c8852fc87b",
   "metadata": {},
   "outputs": [
    {
     "data": {
      "text/plain": [
       "(144, 6)"
      ]
     },
     "execution_count": 17,
     "metadata": {},
     "output_type": "execute_result"
    }
   ],
   "source": [
    "employee_data.shape"
   ]
  },
  {
   "cell_type": "code",
   "execution_count": 12,
   "id": "b2983392-76d2-4ab6-a4a4-c743cfff5080",
   "metadata": {},
   "outputs": [
    {
     "data": {
      "text/plain": [
       "Company     6\n",
       "Age        29\n",
       "Salary     40\n",
       "Place      11\n",
       "Country     1\n",
       "Gender      2\n",
       "dtype: int64"
      ]
     },
     "execution_count": 12,
     "metadata": {},
     "output_type": "execute_result"
    }
   ],
   "source": [
    "employee_data.nunique()"
   ]
  },
  {
   "cell_type": "code",
   "execution_count": 40,
   "id": "c45d520a-4f44-43a5-ac91-22dcc48b2a1a",
   "metadata": {},
   "outputs": [
    {
     "data": {
      "text/plain": [
       "Company\n",
       "TCS                          60\n",
       "Infosys                      43\n",
       "CTS                          35\n",
       "Tata Consultancy Services     2\n",
       "Congnizant                    2\n",
       "Infosys Pvt Lmt               2\n",
       "Name: count, dtype: int64"
      ]
     },
     "execution_count": 40,
     "metadata": {},
     "output_type": "execute_result"
    }
   ],
   "source": [
    "employee_data[\"Company\"].value_counts()"
   ]
  },
  {
   "cell_type": "code",
   "execution_count": 41,
   "id": "71461177-a4d0-4121-8b67-e59f13eb1a32",
   "metadata": {},
   "outputs": [
    {
     "data": {
      "text/plain": [
       "Place\n",
       "Mumbai        48\n",
       "Calcutta      32\n",
       "Chennai       14\n",
       "Delhi         14\n",
       "Cochin        13\n",
       "Noida          8\n",
       "Hyderabad      8\n",
       "Podicherry     3\n",
       "Pune           2\n",
       "Bhopal         1\n",
       "Nagpur         1\n",
       "Name: count, dtype: int64"
      ]
     },
     "execution_count": 41,
     "metadata": {},
     "output_type": "execute_result"
    }
   ],
   "source": [
    "employee_data[\"Place\"].value_counts()"
   ]
  },
  {
   "cell_type": "code",
   "execution_count": 42,
   "id": "51dcfb9b-e3ed-49a7-9f15-d3752d49267e",
   "metadata": {},
   "outputs": [
    {
     "data": {
      "text/plain": [
       "Age\n",
       "33.000000      19\n",
       "5283.471074    17\n",
       "22.000000      15\n",
       "44.000000      10\n",
       "23.000000       8\n",
       "34.000000       8\n",
       "32.000000       7\n",
       "21.000000       7\n",
       "35.000000       6\n",
       "41.000000       5\n",
       "24.000000       4\n",
       "45.000000       4\n",
       "31.000000       3\n",
       "40.000000       3\n",
       "43.000000       3\n",
       "36.000000       3\n",
       "25.000000       3\n",
       "20.000000       3\n",
       "46.000000       2\n",
       "26.000000       2\n",
       "30.000000       2\n",
       "50.000000       2\n",
       "37.000000       2\n",
       "19.000000       1\n",
       "38.000000       1\n",
       "51.000000       1\n",
       "18.000000       1\n",
       "17.000000       1\n",
       "54.000000       1\n",
       "Name: count, dtype: int64"
      ]
     },
     "execution_count": 42,
     "metadata": {},
     "output_type": "execute_result"
    }
   ],
   "source": [
    "employee_data[\"Age\"].value_counts()"
   ]
  },
  {
   "cell_type": "code",
   "execution_count": 43,
   "id": "601de80b-e61f-452f-b5ce-90776f29171a",
   "metadata": {},
   "outputs": [
    {
     "data": {
      "text/plain": [
       "Gender\n",
       "0    112\n",
       "1     32\n",
       "Name: count, dtype: int64"
      ]
     },
     "execution_count": 43,
     "metadata": {},
     "output_type": "execute_result"
    }
   ],
   "source": [
    "employee_data[\"Gender\"].value_counts()"
   ]
  },
  {
   "cell_type": "markdown",
   "id": "97b0dab2-7a0a-433f-8479-e02b62b018bd",
   "metadata": {},
   "source": [
    "**checking outliers**"
   ]
  },
  {
   "cell_type": "code",
   "execution_count": 50,
   "id": "38614e31-d716-4d0c-a90c-201b83795660",
   "metadata": {},
   "outputs": [
    {
     "data": {
      "image/png": "[encoded data removed]",
      "text/plain": [
       "<Figure size 640x480 with 1 Axes>"
      ]
     },
     "metadata": {},
     "output_type": "display_data"
    }
   ],
   "source": [
    "sns.boxplot(x=\"Salary\",data=employee_data)\n",
    "plt.show()"
   ]
  },
  {
   "cell_type": "code",
   "execution_count": 4,
   "id": "877b8c5b-dacd-4468-b08d-ae0232af420d",
   "metadata": {},
   "outputs": [
    {
     "data": {
      "text/plain": [
       "<Axes: xlabel='Salary', ylabel='Count'>"
      ]
     },
     "execution_count": 4,
     "metadata": {},
     "output_type": "execute_result"
    },
    {
     "data": {
      "image/png": "[encoded data removed]",
      "text/plain": [
       "<Figure size 640x480 with 1 Axes>"
      ]
     },
     "metadata": {},
     "output_type": "display_data"
    }
   ],
   "source": [
    "sns.histplot(employee_data[\"Salary\"],kde=True)"
   ]
  },
  {
   "cell_type": "code",
   "execution_count": 61,
   "id": "1daa8fee-7e3b-46df-9e54-cd060ddca903",
   "metadata": {},
   "outputs": [
    {
     "data": {
      "text/plain": [
       "<Axes: xlabel='Company'>"
      ]
     },
     "execution_count": 61,
     "metadata": {},
     "output_type": "execute_result"
    },
    {
     "data": {
      "image/png": "[encoded data removed]",
      "text/plain": [
       "<Figure size 640x480 with 1 Axes>"
      ]
     },
     "metadata": {},
     "output_type": "display_data"
    }
   ],
   "source": [
    "sns.boxplot(x=\"Company\",data=employee_data)"
   ]
  },
  {
   "cell_type": "code",
   "execution_count": null,
   "id": "cbe4df90-e0ee-4cd7-9c6b-7c4a1569559e",
   "metadata": {},
   "outputs": [],
   "source": []
  },
  {
   "cell_type": "code",
   "execution_count": 49,
   "id": "3ceba10d-81de-417e-8b6b-8ead153cf686",
   "metadata": {},
   "outputs": [
    {
     "data": {
      "text/plain": [
       "<Axes: xlabel='Company', ylabel='Salary'>"
      ]
     },
     "execution_count": 49,
     "metadata": {},
     "output_type": "execute_result"
    },
    {
     "data": {
      "image/png": "[encoded data removed]",
      "text/plain": [
       "<Figure size 640x480 with 1 Axes>"
      ]
     },
     "metadata": {},
     "output_type": "display_data"
    }
   ],
   "source": [
    "sns.scatterplot(x=\"Company\",y=\"Salary\",data=employee_data)"
   ]
  },
  {
   "cell_type": "code",
   "execution_count": 62,
   "id": "a3704826-797f-4fb7-b795-4a49b29d902e",
   "metadata": {},
   "outputs": [
    {
     "data": {
      "text/plain": [
       "<Axes: xlabel='Place'>"
      ]
     },
     "execution_count": 62,
     "metadata": {},
     "output_type": "execute_result"
    },
    {
     "data": {
      "image/png": "[encoded data removed]",
      "text/plain": [
       "<Figure size 640x480 with 1 Axes>"
      ]
     },
     "metadata": {},
     "output_type": "display_data"
    }
   ],
   "source": [
    "sns.boxplot(x='Place',data=employee_data)"
   ]
  },
  {
   "cell_type": "code",
   "execution_count": 45,
   "id": "a5263780-befb-48f3-a45b-29a8e29f0029",
   "metadata": {},
   "outputs": [
    {
     "data": {
      "text/plain": [
       "<Axes: xlabel='Age'>"
      ]
     },
     "execution_count": 45,
     "metadata": {},
     "output_type": "execute_result"
    },
    {
     "data": {
      "image/png": "[encoded data removed]",
      "text/plain": [
       "<Figure size 640x480 with 1 Axes>"
      ]
     },
     "metadata": {},
     "output_type": "display_data"
    }
   ],
   "source": [
    "sns.boxplot(x=\"Age\",data=employee_data)"
   ]
  },
  {
   "cell_type": "markdown",
   "id": "2d48d9c9-5460-4aae-89ac-9b50ec2b2c4f",
   "metadata": {},
   "source": [
    "**handling outlier**"
   ]
  },
  {
   "cell_type": "code",
   "execution_count": 47,
   "id": "f48d3543-1e99-429d-9798-5c1f536a0f2c",
   "metadata": {},
   "outputs": [],
   "source": [
    "from sklearn.datasets import load_diabetes"
   ]
  },
  {
   "cell_type": "code",
   "execution_count": 51,
   "id": "60975704-5703-4b65-8947-e76b6ea86e4c",
   "metadata": {},
   "outputs": [
    {
     "name": "stdout",
     "output_type": "stream",
     "text": [
      "nan\n",
      "old shape : (148, 6)\n",
      "new shape : (148, 6)\n"
     ]
    }
   ],
   "source": [
    "\n",
    "Q1=np.percentile(employee_data[\"Age\"],25,interpolation=\"midpoint\")\n",
    "Q3=np.percentile(employee_data[\"Age\"],75,interpolation=\"midpoint\")\n",
    "\n",
    "IQR=Q3-Q1\n",
    "print(IQR)\n",
    "\n",
    "print(\"old shape :\",employee_data.shape)\n",
    "\n",
    "lower=np.where(employee_data[\"Age\"] <= (Q1 - 1.5 * IQR))\n",
    "\n",
    "upper=np.where(employee_data[\"Age\"] >= (Q3 + 1.5 * IQR))\n",
    "\n",
    "employee_data.drop(lower[0],inplace=True)\n",
    "employee_data.drop(upper[0],inplace=True)\n",
    "\n",
    "print(\"new shape :\",employee_data.shape)\n",
    " \n",
    "\n",
    "\n",
    "\n",
    "                     "
   ]
  },
  {
   "cell_type": "code",
   "execution_count": 49,
   "id": "539a1f71-2f80-4074-963f-91a57e82386f",
   "metadata": {},
   "outputs": [
    {
     "data": {
      "text/plain": [
       "<Axes: xlabel='Age'>"
      ]
     },
     "execution_count": 49,
     "metadata": {},
     "output_type": "execute_result"
    },
    {
     "data": {
      "image/png": "[encoded data removed]",
      "text/plain": [
       "<Figure size 640x480 with 1 Axes>"
      ]
     },
     "metadata": {},
     "output_type": "display_data"
    }
   ],
   "source": [
    "sns.boxplot(x=\"Age\",data=employee_data)"
   ]
  },
  {
   "cell_type": "code",
   "execution_count": 19,
   "id": "9f4995ba-2dd3-4320-be61-9771738cc7d3",
   "metadata": {},
   "outputs": [
    {
     "data": {
      "text/plain": [
       "<seaborn.axisgrid.PairGrid at 0x16ca3732f10>"
      ]
     },
     "execution_count": 19,
     "metadata": {},
     "output_type": "execute_result"
    },
    {
     "data": {
      "image/png": "[encoded data removed]",
      "text/plain": [
       "<Figure size 462.236x400 with 6 Axes>"
      ]
     },
     "metadata": {},
     "output_type": "display_data"
    }
   ],
   "source": [
    "sns.pairplot(employee_data,hue=\"Gender\",height=2)"
   ]
  },
  {
   "cell_type": "markdown",
   "id": "c09c26da-cd19-4c2c-9930-47636a8f58c2",
   "metadata": {},
   "source": [
    "**Filter the data with age >40 and salary<5000**\n"
   ]
  },
  {
   "cell_type": "code",
   "execution_count": 51,
   "id": "14ed2dac-0f04-4054-b665-52410ef7c3c6",
   "metadata": {},
   "outputs": [
    {
     "data": {
      "text/html": [
       "<div>\n",
       "<style scoped>\n",
       "    .dataframe tbody tr th:only-of-type {\n",
       "        vertical-align: middle;\n",
       "    }\n",
       "\n",
       "    .dataframe tbody tr th {\n",
       "        vertical-align: top;\n",
       "    }\n",
       "\n",
       "    .dataframe thead th {\n",
       "        text-align: right;\n",
       "    }\n",
       "</style>\n",
       "<table border=\"1\" class=\"dataframe\">\n",
       "  <thead>\n",
       "    <tr style=\"text-align: right;\">\n",
       "      <th></th>\n",
       "      <th>Company</th>\n",
       "      <th>Age</th>\n",
       "      <th>Salary</th>\n",
       "      <th>Place</th>\n",
       "      <th>Country</th>\n",
       "      <th>Gender</th>\n",
       "    </tr>\n",
       "  </thead>\n",
       "  <tbody>\n",
       "    <tr>\n",
       "      <th>21</th>\n",
       "      <td>Infosys</td>\n",
       "      <td>50.0</td>\n",
       "      <td>3184.0</td>\n",
       "      <td>Delhi</td>\n",
       "      <td>India</td>\n",
       "      <td>0</td>\n",
       "    </tr>\n",
       "    <tr>\n",
       "      <th>32</th>\n",
       "      <td>Infosys</td>\n",
       "      <td>45.0</td>\n",
       "      <td>4034.0</td>\n",
       "      <td>Calcutta</td>\n",
       "      <td>India</td>\n",
       "      <td>0</td>\n",
       "    </tr>\n",
       "    <tr>\n",
       "      <th>39</th>\n",
       "      <td>Infosys</td>\n",
       "      <td>41.0</td>\n",
       "      <td>3000.0</td>\n",
       "      <td>Mumbai</td>\n",
       "      <td>India</td>\n",
       "      <td>0</td>\n",
       "    </tr>\n",
       "    <tr>\n",
       "      <th>50</th>\n",
       "      <td>Infosys</td>\n",
       "      <td>41.0</td>\n",
       "      <td>3000.0</td>\n",
       "      <td>Chennai</td>\n",
       "      <td>India</td>\n",
       "      <td>0</td>\n",
       "    </tr>\n",
       "    <tr>\n",
       "      <th>57</th>\n",
       "      <td>Infosys</td>\n",
       "      <td>51.0</td>\n",
       "      <td>3184.0</td>\n",
       "      <td>Hyderabad</td>\n",
       "      <td>India</td>\n",
       "      <td>0</td>\n",
       "    </tr>\n",
       "  </tbody>\n",
       "</table>\n",
       "</div>"
      ],
      "text/plain": [
       "    Company   Age  Salary      Place Country  Gender\n",
       "21  Infosys  50.0  3184.0      Delhi   India       0\n",
       "32  Infosys  45.0  4034.0   Calcutta   India       0\n",
       "39  Infosys  41.0  3000.0     Mumbai   India       0\n",
       "50  Infosys  41.0  3000.0    Chennai   India       0\n",
       "57  Infosys  51.0  3184.0  Hyderabad   India       0"
      ]
     },
     "execution_count": 51,
     "metadata": {},
     "output_type": "execute_result"
    }
   ],
   "source": [
    "filtered_data=employee_data[(employee_data[\"Age\"]>40) & (employee_data[\"Salary\"]<5000)]\n",
    "filtered_data.head()"
   ]
  },
  {
   "cell_type": "markdown",
   "id": "a5954929-2115-48a6-8323-31f7c9f2a7fc",
   "metadata": {},
   "source": [
    "**Plot the chart with age and salary**\r\n"
   ]
  },
  {
   "cell_type": "code",
   "execution_count": 17,
   "id": "6dc4774b-e472-4f6a-b230-df69dc6bceaf",
   "metadata": {},
   "outputs": [
    {
     "data": {
      "image/png": "[encoded data removed]",
      "text/plain": [
       "<Figure size 1000x600 with 1 Axes>"
      ]
     },
     "metadata": {},
     "output_type": "display_data"
    }
   ],
   "source": [
    "plt.figure(figsize=(10, 6))\n",
    "plt.scatter(employee_data['Age'], employee_data['Salary'],alpha=0.5)\n",
    "plt.title('Scatter Plot of Age vs. Salary')\n",
    "plt.xlabel('Age')\n",
    "plt.ylabel('Salary')\n",
    "plt.grid(True)\n",
    "#plt.legend(bbox_to_anchor=(1,1),loc=2)\n",
    "plt.show()"
   ]
  },
  {
   "cell_type": "markdown",
   "id": "4b88bf88-f305-446e-9fc7-5cc7f8b92a7b",
   "metadata": {},
   "source": [
    "**Count the number of people from each place and represent it visually**\r\n"
   ]
  },
  {
   "cell_type": "code",
   "execution_count": 71,
   "id": "0b1bd457-acd7-4e3a-aaca-5a9dd85c1a37",
   "metadata": {},
   "outputs": [
    {
     "data": {
      "text/plain": [
       "<Axes: xlabel='Place', ylabel='count'>"
      ]
     },
     "execution_count": 71,
     "metadata": {},
     "output_type": "execute_result"
    },
    {
     "data": {
      "image/png": "[encoded data removed]",
      "text/plain": [
       "<Figure size 640x480 with 1 Axes>"
      ]
     },
     "metadata": {},
     "output_type": "display_data"
    }
   ],
   "source": [
    "sns.countplot(x=\"Place\",data=employee_data)\n",
    "\n"
   ]
  },
  {
   "cell_type": "code",
   "execution_count": 76,
   "id": "4ea3a3e8-4c47-4072-9897-32b7a10fb0e0",
   "metadata": {},
   "outputs": [
    {
     "data": {
      "image/png": "[encoded data removed]",
      "text/plain": [
       "<Figure size 1000x600 with 1 Axes>"
      ]
     },
     "metadata": {},
     "output_type": "display_data"
    }
   ],
   "source": [
    "plt.figure(figsize=(10, 6))\n",
    "place_count.plot(kind='bar')\n",
    "plt.title('Number of People from Each Place')\n",
    "plt.xlabel('Place')\n",
    "plt.ylabel('Count')\n",
    "plt.xticks(rotation=45)  # Rotate x-axis labels for better readability\n",
    "plt.grid(axis='y')  # Add gridlines along the y-axis\n",
    "plt.show()"
   ]
  },
  {
   "cell_type": "code",
   "execution_count": 87,
   "id": "cc6b22f2-abc0-437a-83db-36a395dd0eb8",
   "metadata": {},
   "outputs": [
    {
     "data": {
      "text/plain": [
       "['Company', 'Place', 'Country']"
      ]
     },
     "execution_count": 87,
     "metadata": {},
     "output_type": "execute_result"
    }
   ],
   "source": [
    "categorical_columns = employee_data.select_dtypes(include=['object']).columns.tolist()\n",
    "categorical_columns\n"
   ]
  },
  {
   "cell_type": "markdown",
   "id": "d8724376-0d54-4585-ac5d-35c5cf2b8b64",
   "metadata": {},
   "source": [
    "# data encoding"
   ]
  },
  {
   "cell_type": "markdown",
   "id": "666886f5-8df2-4ee2-8476-1046876dbd64",
   "metadata": {},
   "source": [
    "Converting categorical variables into numerical representations using techniques such as one-hot encoding & label encoding, making them suitable for analysis by machine learning algorithms.\n",
    "\n",
    "  Here the categorical variables are coming under 'Company','Place','Country'. We have to convert those categorical variables into numerical variables"
   ]
  },
  {
   "cell_type": "markdown",
   "id": "b2dc5acb-c876-4fc1-94e2-7db27b60ba85",
   "metadata": {},
   "source": [
    "**one hot encoding**"
   ]
  },
  {
   "cell_type": "code",
   "execution_count": 27,
   "id": "f271665c-bd7f-402e-ae21-6624d8f4639b",
   "metadata": {},
   "outputs": [
    {
     "data": {
      "text/plain": [
       "array(['TCS', 'Infosys', 'CTS', 'Tata Consultancy Services', 'Congnizant',\n",
       "       'Infosys Pvt Lmt'], dtype=object)"
      ]
     },
     "execution_count": 27,
     "metadata": {},
     "output_type": "execute_result"
    }
   ],
   "source": [
    "employee_data[\"Company\"].unique()"
   ]
  },
  {
   "cell_type": "code",
   "execution_count": 28,
   "id": "d020889e-5c63-4e08-81f3-d0f93f637bc2",
   "metadata": {},
   "outputs": [
    {
     "data": {
      "text/plain": [
       "Company\n",
       "TCS                          60\n",
       "Infosys                      43\n",
       "CTS                          35\n",
       "Tata Consultancy Services     2\n",
       "Congnizant                    2\n",
       "Infosys Pvt Lmt               2\n",
       "Name: count, dtype: int64"
      ]
     },
     "execution_count": 28,
     "metadata": {},
     "output_type": "execute_result"
    }
   ],
   "source": [
    "employee_data[\"Company\"].value_counts()"
   ]
  },
  {
   "cell_type": "code",
   "execution_count": 30,
   "id": "48fd54ed-ba8d-4d73-910d-8ffbc8644b41",
   "metadata": {},
   "outputs": [
    {
     "data": {
      "text/plain": [
       "array(['Chennai', 'Mumbai', 'Calcutta', 'Delhi', 'Podicherry', 'Cochin',\n",
       "       nan, 'Noida', 'Hyderabad', 'Bhopal', 'Nagpur', 'Pune'],\n",
       "      dtype=object)"
      ]
     },
     "execution_count": 30,
     "metadata": {},
     "output_type": "execute_result"
    }
   ],
   "source": [
    "employee_data[\"Place\"].unique()"
   ]
  },
  {
   "cell_type": "code",
   "execution_count": 31,
   "id": "b400f067-92c5-49c6-b56d-0b63e813486e",
   "metadata": {},
   "outputs": [
    {
     "data": {
      "text/plain": [
       "Place\n",
       "Mumbai        34\n",
       "Calcutta      32\n",
       "Chennai       14\n",
       "Delhi         14\n",
       "Cochin        13\n",
       "Noida          8\n",
       "Hyderabad      8\n",
       "Podicherry     3\n",
       "Pune           2\n",
       "Bhopal         1\n",
       "Nagpur         1\n",
       "Name: count, dtype: int64"
      ]
     },
     "execution_count": 31,
     "metadata": {},
     "output_type": "execute_result"
    }
   ],
   "source": [
    "employee_data[\"Place\"].value_counts()"
   ]
  },
  {
   "cell_type": "code",
   "execution_count": 32,
   "id": "f6d220b5-aad2-4847-9962-233d644c97e8",
   "metadata": {},
   "outputs": [
    {
     "data": {
      "text/plain": [
       "Country\n",
       "India    144\n",
       "Name: count, dtype: int64"
      ]
     },
     "execution_count": 32,
     "metadata": {},
     "output_type": "execute_result"
    }
   ],
   "source": [
    "employee_data[\"Country\"].value_counts()"
   ]
  },
  {
   "cell_type": "code",
   "execution_count": 33,
   "id": "b731047a-f5b2-48c8-bab2-0baee09951de",
   "metadata": {},
   "outputs": [],
   "source": [
    "from sklearn.preprocessing import OneHotEncoder"
   ]
  },
  {
   "cell_type": "code",
   "execution_count": 34,
   "id": "b82baef6-6aa7-4348-b4c3-f7a83e8c593c",
   "metadata": {},
   "outputs": [
    {
     "data": {
      "text/html": [
       "<div>\n",
       "<style scoped>\n",
       "    .dataframe tbody tr th:only-of-type {\n",
       "        vertical-align: middle;\n",
       "    }\n",
       "\n",
       "    .dataframe tbody tr th {\n",
       "        vertical-align: top;\n",
       "    }\n",
       "\n",
       "    .dataframe thead th {\n",
       "        text-align: right;\n",
       "    }\n",
       "</style>\n",
       "<table border=\"1\" class=\"dataframe\">\n",
       "  <thead>\n",
       "    <tr style=\"text-align: right;\">\n",
       "      <th></th>\n",
       "      <th>Age</th>\n",
       "      <th>Salary</th>\n",
       "      <th>Gender</th>\n",
       "      <th>Company_CTS</th>\n",
       "      <th>Company_Congnizant</th>\n",
       "      <th>Company_Infosys</th>\n",
       "      <th>Company_Infosys Pvt Lmt</th>\n",
       "      <th>Company_TCS</th>\n",
       "      <th>Company_Tata Consultancy Services</th>\n",
       "      <th>Place_Bhopal</th>\n",
       "      <th>...</th>\n",
       "      <th>Place_Chennai</th>\n",
       "      <th>Place_Cochin</th>\n",
       "      <th>Place_Delhi</th>\n",
       "      <th>Place_Hyderabad</th>\n",
       "      <th>Place_Mumbai</th>\n",
       "      <th>Place_Nagpur</th>\n",
       "      <th>Place_Noida</th>\n",
       "      <th>Place_Podicherry</th>\n",
       "      <th>Place_Pune</th>\n",
       "      <th>Country_India</th>\n",
       "    </tr>\n",
       "  </thead>\n",
       "  <tbody>\n",
       "    <tr>\n",
       "      <th>0</th>\n",
       "      <td>20.0</td>\n",
       "      <td>NaN</td>\n",
       "      <td>0</td>\n",
       "      <td>False</td>\n",
       "      <td>False</td>\n",
       "      <td>False</td>\n",
       "      <td>False</td>\n",
       "      <td>True</td>\n",
       "      <td>False</td>\n",
       "      <td>False</td>\n",
       "      <td>...</td>\n",
       "      <td>True</td>\n",
       "      <td>False</td>\n",
       "      <td>False</td>\n",
       "      <td>False</td>\n",
       "      <td>False</td>\n",
       "      <td>False</td>\n",
       "      <td>False</td>\n",
       "      <td>False</td>\n",
       "      <td>False</td>\n",
       "      <td>True</td>\n",
       "    </tr>\n",
       "    <tr>\n",
       "      <th>1</th>\n",
       "      <td>30.0</td>\n",
       "      <td>NaN</td>\n",
       "      <td>0</td>\n",
       "      <td>False</td>\n",
       "      <td>False</td>\n",
       "      <td>True</td>\n",
       "      <td>False</td>\n",
       "      <td>False</td>\n",
       "      <td>False</td>\n",
       "      <td>False</td>\n",
       "      <td>...</td>\n",
       "      <td>False</td>\n",
       "      <td>False</td>\n",
       "      <td>False</td>\n",
       "      <td>False</td>\n",
       "      <td>True</td>\n",
       "      <td>False</td>\n",
       "      <td>False</td>\n",
       "      <td>False</td>\n",
       "      <td>False</td>\n",
       "      <td>True</td>\n",
       "    </tr>\n",
       "    <tr>\n",
       "      <th>2</th>\n",
       "      <td>35.0</td>\n",
       "      <td>2300.0</td>\n",
       "      <td>0</td>\n",
       "      <td>False</td>\n",
       "      <td>False</td>\n",
       "      <td>False</td>\n",
       "      <td>False</td>\n",
       "      <td>True</td>\n",
       "      <td>False</td>\n",
       "      <td>False</td>\n",
       "      <td>...</td>\n",
       "      <td>False</td>\n",
       "      <td>False</td>\n",
       "      <td>False</td>\n",
       "      <td>False</td>\n",
       "      <td>False</td>\n",
       "      <td>False</td>\n",
       "      <td>False</td>\n",
       "      <td>False</td>\n",
       "      <td>False</td>\n",
       "      <td>True</td>\n",
       "    </tr>\n",
       "    <tr>\n",
       "      <th>3</th>\n",
       "      <td>40.0</td>\n",
       "      <td>3000.0</td>\n",
       "      <td>0</td>\n",
       "      <td>False</td>\n",
       "      <td>False</td>\n",
       "      <td>True</td>\n",
       "      <td>False</td>\n",
       "      <td>False</td>\n",
       "      <td>False</td>\n",
       "      <td>False</td>\n",
       "      <td>...</td>\n",
       "      <td>False</td>\n",
       "      <td>False</td>\n",
       "      <td>True</td>\n",
       "      <td>False</td>\n",
       "      <td>False</td>\n",
       "      <td>False</td>\n",
       "      <td>False</td>\n",
       "      <td>False</td>\n",
       "      <td>False</td>\n",
       "      <td>True</td>\n",
       "    </tr>\n",
       "    <tr>\n",
       "      <th>4</th>\n",
       "      <td>23.0</td>\n",
       "      <td>4000.0</td>\n",
       "      <td>0</td>\n",
       "      <td>False</td>\n",
       "      <td>False</td>\n",
       "      <td>False</td>\n",
       "      <td>False</td>\n",
       "      <td>True</td>\n",
       "      <td>False</td>\n",
       "      <td>False</td>\n",
       "      <td>...</td>\n",
       "      <td>False</td>\n",
       "      <td>False</td>\n",
       "      <td>False</td>\n",
       "      <td>False</td>\n",
       "      <td>True</td>\n",
       "      <td>False</td>\n",
       "      <td>False</td>\n",
       "      <td>False</td>\n",
       "      <td>False</td>\n",
       "      <td>True</td>\n",
       "    </tr>\n",
       "    <tr>\n",
       "      <th>...</th>\n",
       "      <td>...</td>\n",
       "      <td>...</td>\n",
       "      <td>...</td>\n",
       "      <td>...</td>\n",
       "      <td>...</td>\n",
       "      <td>...</td>\n",
       "      <td>...</td>\n",
       "      <td>...</td>\n",
       "      <td>...</td>\n",
       "      <td>...</td>\n",
       "      <td>...</td>\n",
       "      <td>...</td>\n",
       "      <td>...</td>\n",
       "      <td>...</td>\n",
       "      <td>...</td>\n",
       "      <td>...</td>\n",
       "      <td>...</td>\n",
       "      <td>...</td>\n",
       "      <td>...</td>\n",
       "      <td>...</td>\n",
       "      <td>...</td>\n",
       "    </tr>\n",
       "    <tr>\n",
       "      <th>142</th>\n",
       "      <td>22.0</td>\n",
       "      <td>8202.0</td>\n",
       "      <td>0</td>\n",
       "      <td>False</td>\n",
       "      <td>False</td>\n",
       "      <td>False</td>\n",
       "      <td>True</td>\n",
       "      <td>False</td>\n",
       "      <td>False</td>\n",
       "      <td>False</td>\n",
       "      <td>...</td>\n",
       "      <td>False</td>\n",
       "      <td>False</td>\n",
       "      <td>False</td>\n",
       "      <td>False</td>\n",
       "      <td>True</td>\n",
       "      <td>False</td>\n",
       "      <td>False</td>\n",
       "      <td>False</td>\n",
       "      <td>False</td>\n",
       "      <td>True</td>\n",
       "    </tr>\n",
       "    <tr>\n",
       "      <th>143</th>\n",
       "      <td>33.0</td>\n",
       "      <td>9024.0</td>\n",
       "      <td>1</td>\n",
       "      <td>False</td>\n",
       "      <td>False</td>\n",
       "      <td>False</td>\n",
       "      <td>False</td>\n",
       "      <td>True</td>\n",
       "      <td>False</td>\n",
       "      <td>False</td>\n",
       "      <td>...</td>\n",
       "      <td>False</td>\n",
       "      <td>False</td>\n",
       "      <td>False</td>\n",
       "      <td>False</td>\n",
       "      <td>False</td>\n",
       "      <td>False</td>\n",
       "      <td>False</td>\n",
       "      <td>False</td>\n",
       "      <td>False</td>\n",
       "      <td>True</td>\n",
       "    </tr>\n",
       "    <tr>\n",
       "      <th>145</th>\n",
       "      <td>44.0</td>\n",
       "      <td>4034.0</td>\n",
       "      <td>1</td>\n",
       "      <td>False</td>\n",
       "      <td>False</td>\n",
       "      <td>True</td>\n",
       "      <td>False</td>\n",
       "      <td>False</td>\n",
       "      <td>False</td>\n",
       "      <td>False</td>\n",
       "      <td>...</td>\n",
       "      <td>False</td>\n",
       "      <td>False</td>\n",
       "      <td>True</td>\n",
       "      <td>False</td>\n",
       "      <td>False</td>\n",
       "      <td>False</td>\n",
       "      <td>False</td>\n",
       "      <td>False</td>\n",
       "      <td>False</td>\n",
       "      <td>True</td>\n",
       "    </tr>\n",
       "    <tr>\n",
       "      <th>146</th>\n",
       "      <td>33.0</td>\n",
       "      <td>5034.0</td>\n",
       "      <td>1</td>\n",
       "      <td>False</td>\n",
       "      <td>False</td>\n",
       "      <td>False</td>\n",
       "      <td>False</td>\n",
       "      <td>True</td>\n",
       "      <td>False</td>\n",
       "      <td>False</td>\n",
       "      <td>...</td>\n",
       "      <td>False</td>\n",
       "      <td>False</td>\n",
       "      <td>False</td>\n",
       "      <td>False</td>\n",
       "      <td>True</td>\n",
       "      <td>False</td>\n",
       "      <td>False</td>\n",
       "      <td>False</td>\n",
       "      <td>False</td>\n",
       "      <td>True</td>\n",
       "    </tr>\n",
       "    <tr>\n",
       "      <th>147</th>\n",
       "      <td>22.0</td>\n",
       "      <td>8202.0</td>\n",
       "      <td>0</td>\n",
       "      <td>False</td>\n",
       "      <td>False</td>\n",
       "      <td>True</td>\n",
       "      <td>False</td>\n",
       "      <td>False</td>\n",
       "      <td>False</td>\n",
       "      <td>False</td>\n",
       "      <td>...</td>\n",
       "      <td>False</td>\n",
       "      <td>True</td>\n",
       "      <td>False</td>\n",
       "      <td>False</td>\n",
       "      <td>False</td>\n",
       "      <td>False</td>\n",
       "      <td>False</td>\n",
       "      <td>False</td>\n",
       "      <td>False</td>\n",
       "      <td>True</td>\n",
       "    </tr>\n",
       "  </tbody>\n",
       "</table>\n",
       "<p>144 rows × 21 columns</p>\n",
       "</div>"
      ],
      "text/plain": [
       "      Age  Salary  Gender  Company_CTS  Company_Congnizant  Company_Infosys  \\\n",
       "0    20.0     NaN       0        False               False            False   \n",
       "1    30.0     NaN       0        False               False             True   \n",
       "2    35.0  2300.0       0        False               False            False   \n",
       "3    40.0  3000.0       0        False               False             True   \n",
       "4    23.0  4000.0       0        False               False            False   \n",
       "..    ...     ...     ...          ...                 ...              ...   \n",
       "142  22.0  8202.0       0        False               False            False   \n",
       "143  33.0  9024.0       1        False               False            False   \n",
       "145  44.0  4034.0       1        False               False             True   \n",
       "146  33.0  5034.0       1        False               False            False   \n",
       "147  22.0  8202.0       0        False               False             True   \n",
       "\n",
       "     Company_Infosys Pvt Lmt  Company_TCS  Company_Tata Consultancy Services  \\\n",
       "0                      False         True                              False   \n",
       "1                      False        False                              False   \n",
       "2                      False         True                              False   \n",
       "3                      False        False                              False   \n",
       "4                      False         True                              False   \n",
       "..                       ...          ...                                ...   \n",
       "142                     True        False                              False   \n",
       "143                    False         True                              False   \n",
       "145                    False        False                              False   \n",
       "146                    False         True                              False   \n",
       "147                    False        False                              False   \n",
       "\n",
       "     Place_Bhopal  ...  Place_Chennai  Place_Cochin  Place_Delhi  \\\n",
       "0           False  ...           True         False        False   \n",
       "1           False  ...          False         False        False   \n",
       "2           False  ...          False         False        False   \n",
       "3           False  ...          False         False         True   \n",
       "4           False  ...          False         False        False   \n",
       "..            ...  ...            ...           ...          ...   \n",
       "142         False  ...          False         False        False   \n",
       "143         False  ...          False         False        False   \n",
       "145         False  ...          False         False         True   \n",
       "146         False  ...          False         False        False   \n",
       "147         False  ...          False          True        False   \n",
       "\n",
       "     Place_Hyderabad  Place_Mumbai  Place_Nagpur  Place_Noida  \\\n",
       "0              False         False         False        False   \n",
       "1              False          True         False        False   \n",
       "2              False         False         False        False   \n",
       "3              False         False         False        False   \n",
       "4              False          True         False        False   \n",
       "..               ...           ...           ...          ...   \n",
       "142            False          True         False        False   \n",
       "143            False         False         False        False   \n",
       "145            False         False         False        False   \n",
       "146            False          True         False        False   \n",
       "147            False         False         False        False   \n",
       "\n",
       "     Place_Podicherry  Place_Pune  Country_India  \n",
       "0               False       False           True  \n",
       "1               False       False           True  \n",
       "2               False       False           True  \n",
       "3               False       False           True  \n",
       "4               False       False           True  \n",
       "..                ...         ...            ...  \n",
       "142             False       False           True  \n",
       "143             False       False           True  \n",
       "145             False       False           True  \n",
       "146             False       False           True  \n",
       "147             False       False           True  \n",
       "\n",
       "[144 rows x 21 columns]"
      ]
     },
     "execution_count": 34,
     "metadata": {},
     "output_type": "execute_result"
    }
   ],
   "source": [
    "one_hot_encoded_data=pd.get_dummies(employee_data,columns=[\"Company\",\"Place\",\"Country\"])\n",
    "one_hot_encoded_data"
   ]
  },
  {
   "cell_type": "code",
   "execution_count": 35,
   "id": "fa06be83-ada2-4556-b53f-cc5b9e937d59",
   "metadata": {},
   "outputs": [
    {
     "data": {
      "text/html": [
       "<div>\n",
       "<style scoped>\n",
       "    .dataframe tbody tr th:only-of-type {\n",
       "        vertical-align: middle;\n",
       "    }\n",
       "\n",
       "    .dataframe tbody tr th {\n",
       "        vertical-align: top;\n",
       "    }\n",
       "\n",
       "    .dataframe thead th {\n",
       "        text-align: right;\n",
       "    }\n",
       "</style>\n",
       "<table border=\"1\" class=\"dataframe\">\n",
       "  <thead>\n",
       "    <tr style=\"text-align: right;\">\n",
       "      <th></th>\n",
       "      <th>Company_CTS</th>\n",
       "      <th>Company_Congnizant</th>\n",
       "      <th>Company_Infosys</th>\n",
       "      <th>Company_Infosys Pvt Lmt</th>\n",
       "      <th>Company_TCS</th>\n",
       "      <th>Company_Tata Consultancy Services</th>\n",
       "      <th>Place_Bhopal</th>\n",
       "      <th>Place_Calcutta</th>\n",
       "      <th>Place_Chennai</th>\n",
       "      <th>Place_Cochin</th>\n",
       "      <th>Place_Delhi</th>\n",
       "      <th>Place_Hyderabad</th>\n",
       "      <th>Place_Mumbai</th>\n",
       "      <th>Place_Nagpur</th>\n",
       "      <th>Place_Noida</th>\n",
       "      <th>Place_Podicherry</th>\n",
       "      <th>Place_Pune</th>\n",
       "      <th>Country_India</th>\n",
       "    </tr>\n",
       "  </thead>\n",
       "  <tbody>\n",
       "    <tr>\n",
       "      <th>0</th>\n",
       "      <td>0</td>\n",
       "      <td>0</td>\n",
       "      <td>0</td>\n",
       "      <td>0</td>\n",
       "      <td>1</td>\n",
       "      <td>0</td>\n",
       "      <td>0</td>\n",
       "      <td>0</td>\n",
       "      <td>1</td>\n",
       "      <td>0</td>\n",
       "      <td>0</td>\n",
       "      <td>0</td>\n",
       "      <td>0</td>\n",
       "      <td>0</td>\n",
       "      <td>0</td>\n",
       "      <td>0</td>\n",
       "      <td>0</td>\n",
       "      <td>1</td>\n",
       "    </tr>\n",
       "    <tr>\n",
       "      <th>1</th>\n",
       "      <td>0</td>\n",
       "      <td>0</td>\n",
       "      <td>1</td>\n",
       "      <td>0</td>\n",
       "      <td>0</td>\n",
       "      <td>0</td>\n",
       "      <td>0</td>\n",
       "      <td>0</td>\n",
       "      <td>0</td>\n",
       "      <td>0</td>\n",
       "      <td>0</td>\n",
       "      <td>0</td>\n",
       "      <td>1</td>\n",
       "      <td>0</td>\n",
       "      <td>0</td>\n",
       "      <td>0</td>\n",
       "      <td>0</td>\n",
       "      <td>1</td>\n",
       "    </tr>\n",
       "    <tr>\n",
       "      <th>2</th>\n",
       "      <td>0</td>\n",
       "      <td>0</td>\n",
       "      <td>0</td>\n",
       "      <td>0</td>\n",
       "      <td>1</td>\n",
       "      <td>0</td>\n",
       "      <td>0</td>\n",
       "      <td>1</td>\n",
       "      <td>0</td>\n",
       "      <td>0</td>\n",
       "      <td>0</td>\n",
       "      <td>0</td>\n",
       "      <td>0</td>\n",
       "      <td>0</td>\n",
       "      <td>0</td>\n",
       "      <td>0</td>\n",
       "      <td>0</td>\n",
       "      <td>1</td>\n",
       "    </tr>\n",
       "    <tr>\n",
       "      <th>3</th>\n",
       "      <td>0</td>\n",
       "      <td>0</td>\n",
       "      <td>1</td>\n",
       "      <td>0</td>\n",
       "      <td>0</td>\n",
       "      <td>0</td>\n",
       "      <td>0</td>\n",
       "      <td>0</td>\n",
       "      <td>0</td>\n",
       "      <td>0</td>\n",
       "      <td>1</td>\n",
       "      <td>0</td>\n",
       "      <td>0</td>\n",
       "      <td>0</td>\n",
       "      <td>0</td>\n",
       "      <td>0</td>\n",
       "      <td>0</td>\n",
       "      <td>1</td>\n",
       "    </tr>\n",
       "    <tr>\n",
       "      <th>4</th>\n",
       "      <td>0</td>\n",
       "      <td>0</td>\n",
       "      <td>0</td>\n",
       "      <td>0</td>\n",
       "      <td>1</td>\n",
       "      <td>0</td>\n",
       "      <td>0</td>\n",
       "      <td>0</td>\n",
       "      <td>0</td>\n",
       "      <td>0</td>\n",
       "      <td>0</td>\n",
       "      <td>0</td>\n",
       "      <td>1</td>\n",
       "      <td>0</td>\n",
       "      <td>0</td>\n",
       "      <td>0</td>\n",
       "      <td>0</td>\n",
       "      <td>1</td>\n",
       "    </tr>\n",
       "    <tr>\n",
       "      <th>...</th>\n",
       "      <td>...</td>\n",
       "      <td>...</td>\n",
       "      <td>...</td>\n",
       "      <td>...</td>\n",
       "      <td>...</td>\n",
       "      <td>...</td>\n",
       "      <td>...</td>\n",
       "      <td>...</td>\n",
       "      <td>...</td>\n",
       "      <td>...</td>\n",
       "      <td>...</td>\n",
       "      <td>...</td>\n",
       "      <td>...</td>\n",
       "      <td>...</td>\n",
       "      <td>...</td>\n",
       "      <td>...</td>\n",
       "      <td>...</td>\n",
       "      <td>...</td>\n",
       "    </tr>\n",
       "    <tr>\n",
       "      <th>142</th>\n",
       "      <td>0</td>\n",
       "      <td>0</td>\n",
       "      <td>0</td>\n",
       "      <td>1</td>\n",
       "      <td>0</td>\n",
       "      <td>0</td>\n",
       "      <td>0</td>\n",
       "      <td>0</td>\n",
       "      <td>0</td>\n",
       "      <td>0</td>\n",
       "      <td>0</td>\n",
       "      <td>0</td>\n",
       "      <td>1</td>\n",
       "      <td>0</td>\n",
       "      <td>0</td>\n",
       "      <td>0</td>\n",
       "      <td>0</td>\n",
       "      <td>1</td>\n",
       "    </tr>\n",
       "    <tr>\n",
       "      <th>143</th>\n",
       "      <td>0</td>\n",
       "      <td>0</td>\n",
       "      <td>0</td>\n",
       "      <td>0</td>\n",
       "      <td>1</td>\n",
       "      <td>0</td>\n",
       "      <td>0</td>\n",
       "      <td>1</td>\n",
       "      <td>0</td>\n",
       "      <td>0</td>\n",
       "      <td>0</td>\n",
       "      <td>0</td>\n",
       "      <td>0</td>\n",
       "      <td>0</td>\n",
       "      <td>0</td>\n",
       "      <td>0</td>\n",
       "      <td>0</td>\n",
       "      <td>1</td>\n",
       "    </tr>\n",
       "    <tr>\n",
       "      <th>145</th>\n",
       "      <td>0</td>\n",
       "      <td>0</td>\n",
       "      <td>1</td>\n",
       "      <td>0</td>\n",
       "      <td>0</td>\n",
       "      <td>0</td>\n",
       "      <td>0</td>\n",
       "      <td>0</td>\n",
       "      <td>0</td>\n",
       "      <td>0</td>\n",
       "      <td>1</td>\n",
       "      <td>0</td>\n",
       "      <td>0</td>\n",
       "      <td>0</td>\n",
       "      <td>0</td>\n",
       "      <td>0</td>\n",
       "      <td>0</td>\n",
       "      <td>1</td>\n",
       "    </tr>\n",
       "    <tr>\n",
       "      <th>146</th>\n",
       "      <td>0</td>\n",
       "      <td>0</td>\n",
       "      <td>0</td>\n",
       "      <td>0</td>\n",
       "      <td>1</td>\n",
       "      <td>0</td>\n",
       "      <td>0</td>\n",
       "      <td>0</td>\n",
       "      <td>0</td>\n",
       "      <td>0</td>\n",
       "      <td>0</td>\n",
       "      <td>0</td>\n",
       "      <td>1</td>\n",
       "      <td>0</td>\n",
       "      <td>0</td>\n",
       "      <td>0</td>\n",
       "      <td>0</td>\n",
       "      <td>1</td>\n",
       "    </tr>\n",
       "    <tr>\n",
       "      <th>147</th>\n",
       "      <td>0</td>\n",
       "      <td>0</td>\n",
       "      <td>1</td>\n",
       "      <td>0</td>\n",
       "      <td>0</td>\n",
       "      <td>0</td>\n",
       "      <td>0</td>\n",
       "      <td>0</td>\n",
       "      <td>0</td>\n",
       "      <td>1</td>\n",
       "      <td>0</td>\n",
       "      <td>0</td>\n",
       "      <td>0</td>\n",
       "      <td>0</td>\n",
       "      <td>0</td>\n",
       "      <td>0</td>\n",
       "      <td>0</td>\n",
       "      <td>1</td>\n",
       "    </tr>\n",
       "  </tbody>\n",
       "</table>\n",
       "<p>144 rows × 18 columns</p>\n",
       "</div>"
      ],
      "text/plain": [
       "     Company_CTS  Company_Congnizant  Company_Infosys  \\\n",
       "0              0                   0                0   \n",
       "1              0                   0                1   \n",
       "2              0                   0                0   \n",
       "3              0                   0                1   \n",
       "4              0                   0                0   \n",
       "..           ...                 ...              ...   \n",
       "142            0                   0                0   \n",
       "143            0                   0                0   \n",
       "145            0                   0                1   \n",
       "146            0                   0                0   \n",
       "147            0                   0                1   \n",
       "\n",
       "     Company_Infosys Pvt Lmt  Company_TCS  Company_Tata Consultancy Services  \\\n",
       "0                          0            1                                  0   \n",
       "1                          0            0                                  0   \n",
       "2                          0            1                                  0   \n",
       "3                          0            0                                  0   \n",
       "4                          0            1                                  0   \n",
       "..                       ...          ...                                ...   \n",
       "142                        1            0                                  0   \n",
       "143                        0            1                                  0   \n",
       "145                        0            0                                  0   \n",
       "146                        0            1                                  0   \n",
       "147                        0            0                                  0   \n",
       "\n",
       "     Place_Bhopal  Place_Calcutta  Place_Chennai  Place_Cochin  Place_Delhi  \\\n",
       "0               0               0              1             0            0   \n",
       "1               0               0              0             0            0   \n",
       "2               0               1              0             0            0   \n",
       "3               0               0              0             0            1   \n",
       "4               0               0              0             0            0   \n",
       "..            ...             ...            ...           ...          ...   \n",
       "142             0               0              0             0            0   \n",
       "143             0               1              0             0            0   \n",
       "145             0               0              0             0            1   \n",
       "146             0               0              0             0            0   \n",
       "147             0               0              0             1            0   \n",
       "\n",
       "     Place_Hyderabad  Place_Mumbai  Place_Nagpur  Place_Noida  \\\n",
       "0                  0             0             0            0   \n",
       "1                  0             1             0            0   \n",
       "2                  0             0             0            0   \n",
       "3                  0             0             0            0   \n",
       "4                  0             1             0            0   \n",
       "..               ...           ...           ...          ...   \n",
       "142                0             1             0            0   \n",
       "143                0             0             0            0   \n",
       "145                0             0             0            0   \n",
       "146                0             1             0            0   \n",
       "147                0             0             0            0   \n",
       "\n",
       "     Place_Podicherry  Place_Pune  Country_India  \n",
       "0                   0           0              1  \n",
       "1                   0           0              1  \n",
       "2                   0           0              1  \n",
       "3                   0           0              1  \n",
       "4                   0           0              1  \n",
       "..                ...         ...            ...  \n",
       "142                 0           0              1  \n",
       "143                 0           0              1  \n",
       "145                 0           0              1  \n",
       "146                 0           0              1  \n",
       "147                 0           0              1  \n",
       "\n",
       "[144 rows x 18 columns]"
      ]
     },
     "execution_count": 35,
     "metadata": {},
     "output_type": "execute_result"
    }
   ],
   "source": [
    "encoded_data=pd.get_dummies(employee_data[[\"Company\",\"Place\",\"Country\"]])\n",
    "encoded_data=encoded_data.astype(int)\n",
    "encoded_data"
   ]
  },
  {
   "cell_type": "code",
   "execution_count": 36,
   "id": "2daab8e4-5e32-4a08-97fb-cf61690fa21f",
   "metadata": {},
   "outputs": [],
   "source": [
    "employee_data=pd.concat([employee_data,encoded_data],axis=1)"
   ]
  },
  {
   "cell_type": "code",
   "execution_count": 37,
   "id": "f32e928f-1b82-4811-8920-dce6b7ae5059",
   "metadata": {},
   "outputs": [
    {
     "data": {
      "text/html": [
       "<div>\n",
       "<style scoped>\n",
       "    .dataframe tbody tr th:only-of-type {\n",
       "        vertical-align: middle;\n",
       "    }\n",
       "\n",
       "    .dataframe tbody tr th {\n",
       "        vertical-align: top;\n",
       "    }\n",
       "\n",
       "    .dataframe thead th {\n",
       "        text-align: right;\n",
       "    }\n",
       "</style>\n",
       "<table border=\"1\" class=\"dataframe\">\n",
       "  <thead>\n",
       "    <tr style=\"text-align: right;\">\n",
       "      <th></th>\n",
       "      <th>Company</th>\n",
       "      <th>Age</th>\n",
       "      <th>Salary</th>\n",
       "      <th>Place</th>\n",
       "      <th>Country</th>\n",
       "      <th>Gender</th>\n",
       "      <th>Company_CTS</th>\n",
       "      <th>Company_Congnizant</th>\n",
       "      <th>Company_Infosys</th>\n",
       "      <th>Company_Infosys Pvt Lmt</th>\n",
       "      <th>...</th>\n",
       "      <th>Place_Chennai</th>\n",
       "      <th>Place_Cochin</th>\n",
       "      <th>Place_Delhi</th>\n",
       "      <th>Place_Hyderabad</th>\n",
       "      <th>Place_Mumbai</th>\n",
       "      <th>Place_Nagpur</th>\n",
       "      <th>Place_Noida</th>\n",
       "      <th>Place_Podicherry</th>\n",
       "      <th>Place_Pune</th>\n",
       "      <th>Country_India</th>\n",
       "    </tr>\n",
       "  </thead>\n",
       "  <tbody>\n",
       "    <tr>\n",
       "      <th>0</th>\n",
       "      <td>TCS</td>\n",
       "      <td>20.0</td>\n",
       "      <td>NaN</td>\n",
       "      <td>Chennai</td>\n",
       "      <td>India</td>\n",
       "      <td>0</td>\n",
       "      <td>0</td>\n",
       "      <td>0</td>\n",
       "      <td>0</td>\n",
       "      <td>0</td>\n",
       "      <td>...</td>\n",
       "      <td>1</td>\n",
       "      <td>0</td>\n",
       "      <td>0</td>\n",
       "      <td>0</td>\n",
       "      <td>0</td>\n",
       "      <td>0</td>\n",
       "      <td>0</td>\n",
       "      <td>0</td>\n",
       "      <td>0</td>\n",
       "      <td>1</td>\n",
       "    </tr>\n",
       "    <tr>\n",
       "      <th>1</th>\n",
       "      <td>Infosys</td>\n",
       "      <td>30.0</td>\n",
       "      <td>NaN</td>\n",
       "      <td>Mumbai</td>\n",
       "      <td>India</td>\n",
       "      <td>0</td>\n",
       "      <td>0</td>\n",
       "      <td>0</td>\n",
       "      <td>1</td>\n",
       "      <td>0</td>\n",
       "      <td>...</td>\n",
       "      <td>0</td>\n",
       "      <td>0</td>\n",
       "      <td>0</td>\n",
       "      <td>0</td>\n",
       "      <td>1</td>\n",
       "      <td>0</td>\n",
       "      <td>0</td>\n",
       "      <td>0</td>\n",
       "      <td>0</td>\n",
       "      <td>1</td>\n",
       "    </tr>\n",
       "    <tr>\n",
       "      <th>2</th>\n",
       "      <td>TCS</td>\n",
       "      <td>35.0</td>\n",
       "      <td>2300.0</td>\n",
       "      <td>Calcutta</td>\n",
       "      <td>India</td>\n",
       "      <td>0</td>\n",
       "      <td>0</td>\n",
       "      <td>0</td>\n",
       "      <td>0</td>\n",
       "      <td>0</td>\n",
       "      <td>...</td>\n",
       "      <td>0</td>\n",
       "      <td>0</td>\n",
       "      <td>0</td>\n",
       "      <td>0</td>\n",
       "      <td>0</td>\n",
       "      <td>0</td>\n",
       "      <td>0</td>\n",
       "      <td>0</td>\n",
       "      <td>0</td>\n",
       "      <td>1</td>\n",
       "    </tr>\n",
       "    <tr>\n",
       "      <th>3</th>\n",
       "      <td>Infosys</td>\n",
       "      <td>40.0</td>\n",
       "      <td>3000.0</td>\n",
       "      <td>Delhi</td>\n",
       "      <td>India</td>\n",
       "      <td>0</td>\n",
       "      <td>0</td>\n",
       "      <td>0</td>\n",
       "      <td>1</td>\n",
       "      <td>0</td>\n",
       "      <td>...</td>\n",
       "      <td>0</td>\n",
       "      <td>0</td>\n",
       "      <td>1</td>\n",
       "      <td>0</td>\n",
       "      <td>0</td>\n",
       "      <td>0</td>\n",
       "      <td>0</td>\n",
       "      <td>0</td>\n",
       "      <td>0</td>\n",
       "      <td>1</td>\n",
       "    </tr>\n",
       "    <tr>\n",
       "      <th>4</th>\n",
       "      <td>TCS</td>\n",
       "      <td>23.0</td>\n",
       "      <td>4000.0</td>\n",
       "      <td>Mumbai</td>\n",
       "      <td>India</td>\n",
       "      <td>0</td>\n",
       "      <td>0</td>\n",
       "      <td>0</td>\n",
       "      <td>0</td>\n",
       "      <td>0</td>\n",
       "      <td>...</td>\n",
       "      <td>0</td>\n",
       "      <td>0</td>\n",
       "      <td>0</td>\n",
       "      <td>0</td>\n",
       "      <td>1</td>\n",
       "      <td>0</td>\n",
       "      <td>0</td>\n",
       "      <td>0</td>\n",
       "      <td>0</td>\n",
       "      <td>1</td>\n",
       "    </tr>\n",
       "    <tr>\n",
       "      <th>...</th>\n",
       "      <td>...</td>\n",
       "      <td>...</td>\n",
       "      <td>...</td>\n",
       "      <td>...</td>\n",
       "      <td>...</td>\n",
       "      <td>...</td>\n",
       "      <td>...</td>\n",
       "      <td>...</td>\n",
       "      <td>...</td>\n",
       "      <td>...</td>\n",
       "      <td>...</td>\n",
       "      <td>...</td>\n",
       "      <td>...</td>\n",
       "      <td>...</td>\n",
       "      <td>...</td>\n",
       "      <td>...</td>\n",
       "      <td>...</td>\n",
       "      <td>...</td>\n",
       "      <td>...</td>\n",
       "      <td>...</td>\n",
       "      <td>...</td>\n",
       "    </tr>\n",
       "    <tr>\n",
       "      <th>142</th>\n",
       "      <td>Infosys Pvt Lmt</td>\n",
       "      <td>22.0</td>\n",
       "      <td>8202.0</td>\n",
       "      <td>Mumbai</td>\n",
       "      <td>India</td>\n",
       "      <td>0</td>\n",
       "      <td>0</td>\n",
       "      <td>0</td>\n",
       "      <td>0</td>\n",
       "      <td>1</td>\n",
       "      <td>...</td>\n",
       "      <td>0</td>\n",
       "      <td>0</td>\n",
       "      <td>0</td>\n",
       "      <td>0</td>\n",
       "      <td>1</td>\n",
       "      <td>0</td>\n",
       "      <td>0</td>\n",
       "      <td>0</td>\n",
       "      <td>0</td>\n",
       "      <td>1</td>\n",
       "    </tr>\n",
       "    <tr>\n",
       "      <th>143</th>\n",
       "      <td>TCS</td>\n",
       "      <td>33.0</td>\n",
       "      <td>9024.0</td>\n",
       "      <td>Calcutta</td>\n",
       "      <td>India</td>\n",
       "      <td>1</td>\n",
       "      <td>0</td>\n",
       "      <td>0</td>\n",
       "      <td>0</td>\n",
       "      <td>0</td>\n",
       "      <td>...</td>\n",
       "      <td>0</td>\n",
       "      <td>0</td>\n",
       "      <td>0</td>\n",
       "      <td>0</td>\n",
       "      <td>0</td>\n",
       "      <td>0</td>\n",
       "      <td>0</td>\n",
       "      <td>0</td>\n",
       "      <td>0</td>\n",
       "      <td>1</td>\n",
       "    </tr>\n",
       "    <tr>\n",
       "      <th>145</th>\n",
       "      <td>Infosys</td>\n",
       "      <td>44.0</td>\n",
       "      <td>4034.0</td>\n",
       "      <td>Delhi</td>\n",
       "      <td>India</td>\n",
       "      <td>1</td>\n",
       "      <td>0</td>\n",
       "      <td>0</td>\n",
       "      <td>1</td>\n",
       "      <td>0</td>\n",
       "      <td>...</td>\n",
       "      <td>0</td>\n",
       "      <td>0</td>\n",
       "      <td>1</td>\n",
       "      <td>0</td>\n",
       "      <td>0</td>\n",
       "      <td>0</td>\n",
       "      <td>0</td>\n",
       "      <td>0</td>\n",
       "      <td>0</td>\n",
       "      <td>1</td>\n",
       "    </tr>\n",
       "    <tr>\n",
       "      <th>146</th>\n",
       "      <td>TCS</td>\n",
       "      <td>33.0</td>\n",
       "      <td>5034.0</td>\n",
       "      <td>Mumbai</td>\n",
       "      <td>India</td>\n",
       "      <td>1</td>\n",
       "      <td>0</td>\n",
       "      <td>0</td>\n",
       "      <td>0</td>\n",
       "      <td>0</td>\n",
       "      <td>...</td>\n",
       "      <td>0</td>\n",
       "      <td>0</td>\n",
       "      <td>0</td>\n",
       "      <td>0</td>\n",
       "      <td>1</td>\n",
       "      <td>0</td>\n",
       "      <td>0</td>\n",
       "      <td>0</td>\n",
       "      <td>0</td>\n",
       "      <td>1</td>\n",
       "    </tr>\n",
       "    <tr>\n",
       "      <th>147</th>\n",
       "      <td>Infosys</td>\n",
       "      <td>22.0</td>\n",
       "      <td>8202.0</td>\n",
       "      <td>Cochin</td>\n",
       "      <td>India</td>\n",
       "      <td>0</td>\n",
       "      <td>0</td>\n",
       "      <td>0</td>\n",
       "      <td>1</td>\n",
       "      <td>0</td>\n",
       "      <td>...</td>\n",
       "      <td>0</td>\n",
       "      <td>1</td>\n",
       "      <td>0</td>\n",
       "      <td>0</td>\n",
       "      <td>0</td>\n",
       "      <td>0</td>\n",
       "      <td>0</td>\n",
       "      <td>0</td>\n",
       "      <td>0</td>\n",
       "      <td>1</td>\n",
       "    </tr>\n",
       "  </tbody>\n",
       "</table>\n",
       "<p>144 rows × 24 columns</p>\n",
       "</div>"
      ],
      "text/plain": [
       "             Company   Age  Salary     Place Country  Gender  Company_CTS  \\\n",
       "0                TCS  20.0     NaN   Chennai   India       0            0   \n",
       "1            Infosys  30.0     NaN    Mumbai   India       0            0   \n",
       "2                TCS  35.0  2300.0  Calcutta   India       0            0   \n",
       "3            Infosys  40.0  3000.0     Delhi   India       0            0   \n",
       "4                TCS  23.0  4000.0    Mumbai   India       0            0   \n",
       "..               ...   ...     ...       ...     ...     ...          ...   \n",
       "142  Infosys Pvt Lmt  22.0  8202.0    Mumbai   India       0            0   \n",
       "143              TCS  33.0  9024.0  Calcutta   India       1            0   \n",
       "145          Infosys  44.0  4034.0     Delhi   India       1            0   \n",
       "146              TCS  33.0  5034.0    Mumbai   India       1            0   \n",
       "147          Infosys  22.0  8202.0    Cochin   India       0            0   \n",
       "\n",
       "     Company_Congnizant  Company_Infosys  Company_Infosys Pvt Lmt  ...  \\\n",
       "0                     0                0                        0  ...   \n",
       "1                     0                1                        0  ...   \n",
       "2                     0                0                        0  ...   \n",
       "3                     0                1                        0  ...   \n",
       "4                     0                0                        0  ...   \n",
       "..                  ...              ...                      ...  ...   \n",
       "142                   0                0                        1  ...   \n",
       "143                   0                0                        0  ...   \n",
       "145                   0                1                        0  ...   \n",
       "146                   0                0                        0  ...   \n",
       "147                   0                1                        0  ...   \n",
       "\n",
       "     Place_Chennai  Place_Cochin  Place_Delhi  Place_Hyderabad  Place_Mumbai  \\\n",
       "0                1             0            0                0             0   \n",
       "1                0             0            0                0             1   \n",
       "2                0             0            0                0             0   \n",
       "3                0             0            1                0             0   \n",
       "4                0             0            0                0             1   \n",
       "..             ...           ...          ...              ...           ...   \n",
       "142              0             0            0                0             1   \n",
       "143              0             0            0                0             0   \n",
       "145              0             0            1                0             0   \n",
       "146              0             0            0                0             1   \n",
       "147              0             1            0                0             0   \n",
       "\n",
       "     Place_Nagpur  Place_Noida  Place_Podicherry  Place_Pune  Country_India  \n",
       "0               0            0                 0           0              1  \n",
       "1               0            0                 0           0              1  \n",
       "2               0            0                 0           0              1  \n",
       "3               0            0                 0           0              1  \n",
       "4               0            0                 0           0              1  \n",
       "..            ...          ...               ...         ...            ...  \n",
       "142             0            0                 0           0              1  \n",
       "143             0            0                 0           0              1  \n",
       "145             0            0                 0           0              1  \n",
       "146             0            0                 0           0              1  \n",
       "147             0            0                 0           0              1  \n",
       "\n",
       "[144 rows x 24 columns]"
      ]
     },
     "execution_count": 37,
     "metadata": {},
     "output_type": "execute_result"
    }
   ],
   "source": [
    "employee_data"
   ]
  },
  {
   "cell_type": "code",
   "execution_count": 38,
   "id": "c2616608-362e-41c6-b7fc-361ec2eb5f9a",
   "metadata": {},
   "outputs": [],
   "source": [
    "employee_data.drop([\"Company\",\"Place\",\"Country\"],axis=1,inplace=True)"
   ]
  },
  {
   "cell_type": "code",
   "execution_count": 39,
   "id": "fe2a942b-dca7-4b57-8664-34ca94a184d2",
   "metadata": {},
   "outputs": [
    {
     "data": {
      "text/html": [
       "<div>\n",
       "<style scoped>\n",
       "    .dataframe tbody tr th:only-of-type {\n",
       "        vertical-align: middle;\n",
       "    }\n",
       "\n",
       "    .dataframe tbody tr th {\n",
       "        vertical-align: top;\n",
       "    }\n",
       "\n",
       "    .dataframe thead th {\n",
       "        text-align: right;\n",
       "    }\n",
       "</style>\n",
       "<table border=\"1\" class=\"dataframe\">\n",
       "  <thead>\n",
       "    <tr style=\"text-align: right;\">\n",
       "      <th></th>\n",
       "      <th>Age</th>\n",
       "      <th>Salary</th>\n",
       "      <th>Gender</th>\n",
       "      <th>Company_CTS</th>\n",
       "      <th>Company_Congnizant</th>\n",
       "      <th>Company_Infosys</th>\n",
       "      <th>Company_Infosys Pvt Lmt</th>\n",
       "      <th>Company_TCS</th>\n",
       "      <th>Company_Tata Consultancy Services</th>\n",
       "      <th>Place_Bhopal</th>\n",
       "      <th>...</th>\n",
       "      <th>Place_Chennai</th>\n",
       "      <th>Place_Cochin</th>\n",
       "      <th>Place_Delhi</th>\n",
       "      <th>Place_Hyderabad</th>\n",
       "      <th>Place_Mumbai</th>\n",
       "      <th>Place_Nagpur</th>\n",
       "      <th>Place_Noida</th>\n",
       "      <th>Place_Podicherry</th>\n",
       "      <th>Place_Pune</th>\n",
       "      <th>Country_India</th>\n",
       "    </tr>\n",
       "  </thead>\n",
       "  <tbody>\n",
       "    <tr>\n",
       "      <th>0</th>\n",
       "      <td>20.0</td>\n",
       "      <td>NaN</td>\n",
       "      <td>0</td>\n",
       "      <td>0</td>\n",
       "      <td>0</td>\n",
       "      <td>0</td>\n",
       "      <td>0</td>\n",
       "      <td>1</td>\n",
       "      <td>0</td>\n",
       "      <td>0</td>\n",
       "      <td>...</td>\n",
       "      <td>1</td>\n",
       "      <td>0</td>\n",
       "      <td>0</td>\n",
       "      <td>0</td>\n",
       "      <td>0</td>\n",
       "      <td>0</td>\n",
       "      <td>0</td>\n",
       "      <td>0</td>\n",
       "      <td>0</td>\n",
       "      <td>1</td>\n",
       "    </tr>\n",
       "    <tr>\n",
       "      <th>1</th>\n",
       "      <td>30.0</td>\n",
       "      <td>NaN</td>\n",
       "      <td>0</td>\n",
       "      <td>0</td>\n",
       "      <td>0</td>\n",
       "      <td>1</td>\n",
       "      <td>0</td>\n",
       "      <td>0</td>\n",
       "      <td>0</td>\n",
       "      <td>0</td>\n",
       "      <td>...</td>\n",
       "      <td>0</td>\n",
       "      <td>0</td>\n",
       "      <td>0</td>\n",
       "      <td>0</td>\n",
       "      <td>1</td>\n",
       "      <td>0</td>\n",
       "      <td>0</td>\n",
       "      <td>0</td>\n",
       "      <td>0</td>\n",
       "      <td>1</td>\n",
       "    </tr>\n",
       "    <tr>\n",
       "      <th>2</th>\n",
       "      <td>35.0</td>\n",
       "      <td>2300.0</td>\n",
       "      <td>0</td>\n",
       "      <td>0</td>\n",
       "      <td>0</td>\n",
       "      <td>0</td>\n",
       "      <td>0</td>\n",
       "      <td>1</td>\n",
       "      <td>0</td>\n",
       "      <td>0</td>\n",
       "      <td>...</td>\n",
       "      <td>0</td>\n",
       "      <td>0</td>\n",
       "      <td>0</td>\n",
       "      <td>0</td>\n",
       "      <td>0</td>\n",
       "      <td>0</td>\n",
       "      <td>0</td>\n",
       "      <td>0</td>\n",
       "      <td>0</td>\n",
       "      <td>1</td>\n",
       "    </tr>\n",
       "    <tr>\n",
       "      <th>3</th>\n",
       "      <td>40.0</td>\n",
       "      <td>3000.0</td>\n",
       "      <td>0</td>\n",
       "      <td>0</td>\n",
       "      <td>0</td>\n",
       "      <td>1</td>\n",
       "      <td>0</td>\n",
       "      <td>0</td>\n",
       "      <td>0</td>\n",
       "      <td>0</td>\n",
       "      <td>...</td>\n",
       "      <td>0</td>\n",
       "      <td>0</td>\n",
       "      <td>1</td>\n",
       "      <td>0</td>\n",
       "      <td>0</td>\n",
       "      <td>0</td>\n",
       "      <td>0</td>\n",
       "      <td>0</td>\n",
       "      <td>0</td>\n",
       "      <td>1</td>\n",
       "    </tr>\n",
       "    <tr>\n",
       "      <th>4</th>\n",
       "      <td>23.0</td>\n",
       "      <td>4000.0</td>\n",
       "      <td>0</td>\n",
       "      <td>0</td>\n",
       "      <td>0</td>\n",
       "      <td>0</td>\n",
       "      <td>0</td>\n",
       "      <td>1</td>\n",
       "      <td>0</td>\n",
       "      <td>0</td>\n",
       "      <td>...</td>\n",
       "      <td>0</td>\n",
       "      <td>0</td>\n",
       "      <td>0</td>\n",
       "      <td>0</td>\n",
       "      <td>1</td>\n",
       "      <td>0</td>\n",
       "      <td>0</td>\n",
       "      <td>0</td>\n",
       "      <td>0</td>\n",
       "      <td>1</td>\n",
       "    </tr>\n",
       "    <tr>\n",
       "      <th>...</th>\n",
       "      <td>...</td>\n",
       "      <td>...</td>\n",
       "      <td>...</td>\n",
       "      <td>...</td>\n",
       "      <td>...</td>\n",
       "      <td>...</td>\n",
       "      <td>...</td>\n",
       "      <td>...</td>\n",
       "      <td>...</td>\n",
       "      <td>...</td>\n",
       "      <td>...</td>\n",
       "      <td>...</td>\n",
       "      <td>...</td>\n",
       "      <td>...</td>\n",
       "      <td>...</td>\n",
       "      <td>...</td>\n",
       "      <td>...</td>\n",
       "      <td>...</td>\n",
       "      <td>...</td>\n",
       "      <td>...</td>\n",
       "      <td>...</td>\n",
       "    </tr>\n",
       "    <tr>\n",
       "      <th>142</th>\n",
       "      <td>22.0</td>\n",
       "      <td>8202.0</td>\n",
       "      <td>0</td>\n",
       "      <td>0</td>\n",
       "      <td>0</td>\n",
       "      <td>0</td>\n",
       "      <td>1</td>\n",
       "      <td>0</td>\n",
       "      <td>0</td>\n",
       "      <td>0</td>\n",
       "      <td>...</td>\n",
       "      <td>0</td>\n",
       "      <td>0</td>\n",
       "      <td>0</td>\n",
       "      <td>0</td>\n",
       "      <td>1</td>\n",
       "      <td>0</td>\n",
       "      <td>0</td>\n",
       "      <td>0</td>\n",
       "      <td>0</td>\n",
       "      <td>1</td>\n",
       "    </tr>\n",
       "    <tr>\n",
       "      <th>143</th>\n",
       "      <td>33.0</td>\n",
       "      <td>9024.0</td>\n",
       "      <td>1</td>\n",
       "      <td>0</td>\n",
       "      <td>0</td>\n",
       "      <td>0</td>\n",
       "      <td>0</td>\n",
       "      <td>1</td>\n",
       "      <td>0</td>\n",
       "      <td>0</td>\n",
       "      <td>...</td>\n",
       "      <td>0</td>\n",
       "      <td>0</td>\n",
       "      <td>0</td>\n",
       "      <td>0</td>\n",
       "      <td>0</td>\n",
       "      <td>0</td>\n",
       "      <td>0</td>\n",
       "      <td>0</td>\n",
       "      <td>0</td>\n",
       "      <td>1</td>\n",
       "    </tr>\n",
       "    <tr>\n",
       "      <th>145</th>\n",
       "      <td>44.0</td>\n",
       "      <td>4034.0</td>\n",
       "      <td>1</td>\n",
       "      <td>0</td>\n",
       "      <td>0</td>\n",
       "      <td>1</td>\n",
       "      <td>0</td>\n",
       "      <td>0</td>\n",
       "      <td>0</td>\n",
       "      <td>0</td>\n",
       "      <td>...</td>\n",
       "      <td>0</td>\n",
       "      <td>0</td>\n",
       "      <td>1</td>\n",
       "      <td>0</td>\n",
       "      <td>0</td>\n",
       "      <td>0</td>\n",
       "      <td>0</td>\n",
       "      <td>0</td>\n",
       "      <td>0</td>\n",
       "      <td>1</td>\n",
       "    </tr>\n",
       "    <tr>\n",
       "      <th>146</th>\n",
       "      <td>33.0</td>\n",
       "      <td>5034.0</td>\n",
       "      <td>1</td>\n",
       "      <td>0</td>\n",
       "      <td>0</td>\n",
       "      <td>0</td>\n",
       "      <td>0</td>\n",
       "      <td>1</td>\n",
       "      <td>0</td>\n",
       "      <td>0</td>\n",
       "      <td>...</td>\n",
       "      <td>0</td>\n",
       "      <td>0</td>\n",
       "      <td>0</td>\n",
       "      <td>0</td>\n",
       "      <td>1</td>\n",
       "      <td>0</td>\n",
       "      <td>0</td>\n",
       "      <td>0</td>\n",
       "      <td>0</td>\n",
       "      <td>1</td>\n",
       "    </tr>\n",
       "    <tr>\n",
       "      <th>147</th>\n",
       "      <td>22.0</td>\n",
       "      <td>8202.0</td>\n",
       "      <td>0</td>\n",
       "      <td>0</td>\n",
       "      <td>0</td>\n",
       "      <td>1</td>\n",
       "      <td>0</td>\n",
       "      <td>0</td>\n",
       "      <td>0</td>\n",
       "      <td>0</td>\n",
       "      <td>...</td>\n",
       "      <td>0</td>\n",
       "      <td>1</td>\n",
       "      <td>0</td>\n",
       "      <td>0</td>\n",
       "      <td>0</td>\n",
       "      <td>0</td>\n",
       "      <td>0</td>\n",
       "      <td>0</td>\n",
       "      <td>0</td>\n",
       "      <td>1</td>\n",
       "    </tr>\n",
       "  </tbody>\n",
       "</table>\n",
       "<p>144 rows × 21 columns</p>\n",
       "</div>"
      ],
      "text/plain": [
       "      Age  Salary  Gender  Company_CTS  Company_Congnizant  Company_Infosys  \\\n",
       "0    20.0     NaN       0            0                   0                0   \n",
       "1    30.0     NaN       0            0                   0                1   \n",
       "2    35.0  2300.0       0            0                   0                0   \n",
       "3    40.0  3000.0       0            0                   0                1   \n",
       "4    23.0  4000.0       0            0                   0                0   \n",
       "..    ...     ...     ...          ...                 ...              ...   \n",
       "142  22.0  8202.0       0            0                   0                0   \n",
       "143  33.0  9024.0       1            0                   0                0   \n",
       "145  44.0  4034.0       1            0                   0                1   \n",
       "146  33.0  5034.0       1            0                   0                0   \n",
       "147  22.0  8202.0       0            0                   0                1   \n",
       "\n",
       "     Company_Infosys Pvt Lmt  Company_TCS  Company_Tata Consultancy Services  \\\n",
       "0                          0            1                                  0   \n",
       "1                          0            0                                  0   \n",
       "2                          0            1                                  0   \n",
       "3                          0            0                                  0   \n",
       "4                          0            1                                  0   \n",
       "..                       ...          ...                                ...   \n",
       "142                        1            0                                  0   \n",
       "143                        0            1                                  0   \n",
       "145                        0            0                                  0   \n",
       "146                        0            1                                  0   \n",
       "147                        0            0                                  0   \n",
       "\n",
       "     Place_Bhopal  ...  Place_Chennai  Place_Cochin  Place_Delhi  \\\n",
       "0               0  ...              1             0            0   \n",
       "1               0  ...              0             0            0   \n",
       "2               0  ...              0             0            0   \n",
       "3               0  ...              0             0            1   \n",
       "4               0  ...              0             0            0   \n",
       "..            ...  ...            ...           ...          ...   \n",
       "142             0  ...              0             0            0   \n",
       "143             0  ...              0             0            0   \n",
       "145             0  ...              0             0            1   \n",
       "146             0  ...              0             0            0   \n",
       "147             0  ...              0             1            0   \n",
       "\n",
       "     Place_Hyderabad  Place_Mumbai  Place_Nagpur  Place_Noida  \\\n",
       "0                  0             0             0            0   \n",
       "1                  0             1             0            0   \n",
       "2                  0             0             0            0   \n",
       "3                  0             0             0            0   \n",
       "4                  0             1             0            0   \n",
       "..               ...           ...           ...          ...   \n",
       "142                0             1             0            0   \n",
       "143                0             0             0            0   \n",
       "145                0             0             0            0   \n",
       "146                0             1             0            0   \n",
       "147                0             0             0            0   \n",
       "\n",
       "     Place_Podicherry  Place_Pune  Country_India  \n",
       "0                   0           0              1  \n",
       "1                   0           0              1  \n",
       "2                   0           0              1  \n",
       "3                   0           0              1  \n",
       "4                   0           0              1  \n",
       "..                ...         ...            ...  \n",
       "142                 0           0              1  \n",
       "143                 0           0              1  \n",
       "145                 0           0              1  \n",
       "146                 0           0              1  \n",
       "147                 0           0              1  \n",
       "\n",
       "[144 rows x 21 columns]"
      ]
     },
     "execution_count": 39,
     "metadata": {},
     "output_type": "execute_result"
    }
   ],
   "source": [
    "employee_data"
   ]
  },
  {
   "cell_type": "markdown",
   "id": "f21724dc-7b98-4e84-b405-c963586115a7",
   "metadata": {},
   "source": [
    "**label_encoding**"
   ]
  },
  {
   "cell_type": "code",
   "execution_count": 22,
   "id": "71d7171f-1589-4377-b29f-4ca57ed369ba",
   "metadata": {},
   "outputs": [
    {
     "name": "stdout",
     "output_type": "stream",
     "text": [
      "     Company   Age  Salary  Place  Country  Gender\n",
      "0          4  20.0     NaN      2        0       0\n",
      "1          2  30.0     NaN      6        0       0\n",
      "2          4  35.0  2300.0      1        0       0\n",
      "3          2  40.0  3000.0      4        0       0\n",
      "4          4  23.0  4000.0      6        0       0\n",
      "..       ...   ...     ...    ...      ...     ...\n",
      "142        3  22.0  8202.0      6        0       0\n",
      "143        4  33.0  9024.0      1        0       1\n",
      "145        2  44.0  4034.0      4        0       1\n",
      "146        4  33.0  5034.0      6        0       1\n",
      "147        2  22.0  8202.0      3        0       0\n",
      "\n",
      "[144 rows x 6 columns]\n"
     ]
    }
   ],
   "source": [
    "from sklearn.preprocessing import LabelEncoder\n",
    "\n",
    "cols_to_encode = [\"Company\", \"Place\", \"Country\"]\n",
    "\n",
    "#label_encoder is the object of LabelEncode\n",
    "label_encoder = LabelEncoder()\n",
    "\n",
    "# Initialize a new DataFrame to store the encoded columns\n",
    "df_label_encoded = employee_data.copy()\n",
    "\n",
    "# Encode each column in cols_to_encode\n",
    "for col in cols_to_encode:\n",
    "    df_label_encoded[col] = label_encoder.fit_transform(employee_data[col])\n",
    "\n",
    "print(df_label_encoded)"
   ]
  },
  {
   "cell_type": "code",
   "execution_count": 11,
   "id": "50317797-d33d-4a06-a0e3-da58052bac3f",
   "metadata": {},
   "outputs": [
    {
     "data": {
      "text/plain": [
       "array([0, 1], dtype=int64)"
      ]
     },
     "execution_count": 11,
     "metadata": {},
     "output_type": "execute_result"
    }
   ],
   "source": [
    "#initialize\n",
    "labelencoder=LabelEncoder()\n",
    "employee_data[\"Gender\"]=labelencoder.fit_transform(employee_data[\"Gender\"])\n",
    "employee_data[\"Gender\"].unique()"
   ]
  },
  {
   "cell_type": "code",
   "execution_count": 21,
   "id": "cf3ccaee-0a7c-4b13-a35c-7d8f6fb960ad",
   "metadata": {},
   "outputs": [
    {
     "data": {
      "text/html": [
       "<div>\n",
       "<style scoped>\n",
       "    .dataframe tbody tr th:only-of-type {\n",
       "        vertical-align: middle;\n",
       "    }\n",
       "\n",
       "    .dataframe tbody tr th {\n",
       "        vertical-align: top;\n",
       "    }\n",
       "\n",
       "    .dataframe thead th {\n",
       "        text-align: right;\n",
       "    }\n",
       "</style>\n",
       "<table border=\"1\" class=\"dataframe\">\n",
       "  <thead>\n",
       "    <tr style=\"text-align: right;\">\n",
       "      <th></th>\n",
       "      <th>Company</th>\n",
       "      <th>Age</th>\n",
       "      <th>Salary</th>\n",
       "      <th>Place</th>\n",
       "      <th>Country</th>\n",
       "      <th>Gender</th>\n",
       "    </tr>\n",
       "  </thead>\n",
       "  <tbody>\n",
       "    <tr>\n",
       "      <th>0</th>\n",
       "      <td>TCS</td>\n",
       "      <td>20.0</td>\n",
       "      <td>NaN</td>\n",
       "      <td>Chennai</td>\n",
       "      <td>India</td>\n",
       "      <td>0</td>\n",
       "    </tr>\n",
       "    <tr>\n",
       "      <th>1</th>\n",
       "      <td>Infosys</td>\n",
       "      <td>30.0</td>\n",
       "      <td>NaN</td>\n",
       "      <td>Mumbai</td>\n",
       "      <td>India</td>\n",
       "      <td>0</td>\n",
       "    </tr>\n",
       "    <tr>\n",
       "      <th>2</th>\n",
       "      <td>TCS</td>\n",
       "      <td>35.0</td>\n",
       "      <td>2300.0</td>\n",
       "      <td>Calcutta</td>\n",
       "      <td>India</td>\n",
       "      <td>0</td>\n",
       "    </tr>\n",
       "    <tr>\n",
       "      <th>3</th>\n",
       "      <td>Infosys</td>\n",
       "      <td>40.0</td>\n",
       "      <td>3000.0</td>\n",
       "      <td>Delhi</td>\n",
       "      <td>India</td>\n",
       "      <td>0</td>\n",
       "    </tr>\n",
       "    <tr>\n",
       "      <th>4</th>\n",
       "      <td>TCS</td>\n",
       "      <td>23.0</td>\n",
       "      <td>4000.0</td>\n",
       "      <td>Mumbai</td>\n",
       "      <td>India</td>\n",
       "      <td>0</td>\n",
       "    </tr>\n",
       "    <tr>\n",
       "      <th>...</th>\n",
       "      <td>...</td>\n",
       "      <td>...</td>\n",
       "      <td>...</td>\n",
       "      <td>...</td>\n",
       "      <td>...</td>\n",
       "      <td>...</td>\n",
       "    </tr>\n",
       "    <tr>\n",
       "      <th>142</th>\n",
       "      <td>Infosys Pvt Lmt</td>\n",
       "      <td>22.0</td>\n",
       "      <td>8202.0</td>\n",
       "      <td>Mumbai</td>\n",
       "      <td>India</td>\n",
       "      <td>0</td>\n",
       "    </tr>\n",
       "    <tr>\n",
       "      <th>143</th>\n",
       "      <td>TCS</td>\n",
       "      <td>33.0</td>\n",
       "      <td>9024.0</td>\n",
       "      <td>Calcutta</td>\n",
       "      <td>India</td>\n",
       "      <td>1</td>\n",
       "    </tr>\n",
       "    <tr>\n",
       "      <th>145</th>\n",
       "      <td>Infosys</td>\n",
       "      <td>44.0</td>\n",
       "      <td>4034.0</td>\n",
       "      <td>Delhi</td>\n",
       "      <td>India</td>\n",
       "      <td>1</td>\n",
       "    </tr>\n",
       "    <tr>\n",
       "      <th>146</th>\n",
       "      <td>TCS</td>\n",
       "      <td>33.0</td>\n",
       "      <td>5034.0</td>\n",
       "      <td>Mumbai</td>\n",
       "      <td>India</td>\n",
       "      <td>1</td>\n",
       "    </tr>\n",
       "    <tr>\n",
       "      <th>147</th>\n",
       "      <td>Infosys</td>\n",
       "      <td>22.0</td>\n",
       "      <td>8202.0</td>\n",
       "      <td>Cochin</td>\n",
       "      <td>India</td>\n",
       "      <td>0</td>\n",
       "    </tr>\n",
       "  </tbody>\n",
       "</table>\n",
       "<p>144 rows × 6 columns</p>\n",
       "</div>"
      ],
      "text/plain": [
       "             Company   Age  Salary     Place Country  Gender\n",
       "0                TCS  20.0     NaN   Chennai   India       0\n",
       "1            Infosys  30.0     NaN    Mumbai   India       0\n",
       "2                TCS  35.0  2300.0  Calcutta   India       0\n",
       "3            Infosys  40.0  3000.0     Delhi   India       0\n",
       "4                TCS  23.0  4000.0    Mumbai   India       0\n",
       "..               ...   ...     ...       ...     ...     ...\n",
       "142  Infosys Pvt Lmt  22.0  8202.0    Mumbai   India       0\n",
       "143              TCS  33.0  9024.0  Calcutta   India       1\n",
       "145          Infosys  44.0  4034.0     Delhi   India       1\n",
       "146              TCS  33.0  5034.0    Mumbai   India       1\n",
       "147          Infosys  22.0  8202.0    Cochin   India       0\n",
       "\n",
       "[144 rows x 6 columns]"
      ]
     },
     "execution_count": 21,
     "metadata": {},
     "output_type": "execute_result"
    }
   ],
   "source": [
    "employee_data"
   ]
  },
  {
   "cell_type": "markdown",
   "id": "ec1356af-f0da-47b6-bbe1-8bbfd5971852",
   "metadata": {},
   "source": [
    "# feature scaling"
   ]
  },
  {
   "cell_type": "markdown",
   "id": "77dd3143-94e2-4e03-b03d-cae219b9d572",
   "metadata": {},
   "source": [
    "Feature scaling is a technique used in machine learning and data preprocessing to standardize the range of independent variables or features in the dataset. The goal of feature scaling is to ensure that all features contribute equally to the analysis and modeling process, preventing features with larger scales from dominating those with smaller scales."
   ]
  },
  {
   "cell_type": "markdown",
   "id": "c7f345ac-28ff-4be1-927c-f71f56f6e1a6",
   "metadata": {},
   "source": [
    "## MinMax scaler"
   ]
  },
  {
   "cell_type": "code",
   "execution_count": 23,
   "id": "6996eb59-e767-4d92-a68b-6f63c47f9fb8",
   "metadata": {},
   "outputs": [
    {
     "name": "stdout",
     "output_type": "stream",
     "text": [
      "             Company       Age    Salary     Place Country  Gender\n",
      "0                TCS  0.370370       NaN   Chennai   India       0\n",
      "1            Infosys  0.555556       NaN    Mumbai   India       0\n",
      "2                TCS  0.648148  0.137817  Calcutta   India       0\n",
      "3            Infosys  0.740741  0.217480     Delhi   India       0\n",
      "4                TCS  0.425926  0.331285    Mumbai   India       0\n",
      "..               ...       ...       ...       ...     ...     ...\n",
      "142  Infosys Pvt Lmt  0.611111  0.448959    Mumbai   India       0\n",
      "143              TCS  0.407407  0.809491  Calcutta   India       1\n",
      "145          Infosys       NaN       NaN     Delhi   India       1\n",
      "146              TCS       NaN       NaN    Mumbai   India       1\n",
      "147          Infosys       NaN       NaN    Cochin   India       0\n",
      "\n",
      "[144 rows x 6 columns]\n"
     ]
    }
   ],
   "source": [
    "from sklearn.preprocessing import MinMaxScaler\n",
    "\n",
    "Columns_to_Scale=employee_data[['Age','Salary']]\n",
    "\n",
    "# Create a scaler object\n",
    "scaler = MinMaxScaler()\n",
    "\n",
    "# Fit the scaler on the data\n",
    "scaler.fit(Columns_to_Scale)\n",
    "\n",
    "# Transform the data\n",
    "scaled_data = scaler.transform(Columns_to_Scale)\n",
    "\n",
    "# Convert scaled data to DataFrame\n",
    "scaled_df = pd.DataFrame(scaled_data, columns=['Age', 'Salary'])\n",
    "\n",
    "# Initialize a new DataFrame to store after applying standard scaler\n",
    "df_minmax = employee_data.copy()\n",
    "\n",
    "# Replace scaled columns in the original DataFrame\n",
    "df_minmax[['Age', 'Salary']] = scaled_df\n",
    "\n",
    "# Print the DataFrame with scaled columns replaced by original values\n",
    "print(df_minmax)"
   ]
  },
  {
   "cell_type": "code",
   "execution_count": 24,
   "id": "3158bdd9-328b-431d-9c63-1edaab44673b",
   "metadata": {},
   "outputs": [
    {
     "name": "stdout",
     "output_type": "stream",
     "text": [
      "     Company       Age    Salary  Place  Country  Gender\n",
      "0          4  0.370370       NaN      2        0       0\n",
      "1          2  0.555556       NaN      6        0       0\n",
      "2          4  0.648148  0.137817      1        0       0\n",
      "3          2  0.740741  0.217480      4        0       0\n",
      "4          4  0.425926  0.331285      6        0       0\n",
      "..       ...       ...       ...    ...      ...     ...\n",
      "142        3  0.611111  0.448959      6        0       0\n",
      "143        4  0.407407  0.809491      1        0       1\n",
      "145        2       NaN       NaN      4        0       1\n",
      "146        4       NaN       NaN      6        0       1\n",
      "147        2       NaN       NaN      3        0       0\n",
      "\n",
      "[144 rows x 6 columns]\n"
     ]
    }
   ],
   "source": [
    "#dataframe after label encoding & minmax scaling\n",
    "\n",
    "# Initialize a new DataFrame to store after applying standard scaler\n",
    "df_minmax = df_label_encoded.copy()\n",
    "\n",
    "# Replace scaled columns in the original DataFrame\n",
    "df_minmax[['Age', 'Salary']] = scaled_df\n",
    "\n",
    "# Print the DataFrame with scaled columns replaced by original values\n",
    "print(df_minmax)"
   ]
  },
  {
   "cell_type": "code",
   "execution_count": 40,
   "id": "990ccd6c-8efa-4404-af4b-415114360251",
   "metadata": {},
   "outputs": [
    {
     "name": "stdout",
     "output_type": "stream",
     "text": [
      "          Age    Salary  Gender  Company_CTS  Company_Congnizant  \\\n",
      "0    0.370370       NaN       0        False               False   \n",
      "1    0.555556       NaN       0        False               False   \n",
      "2    0.648148  0.137817       0        False               False   \n",
      "3    0.740741  0.217480       0        False               False   \n",
      "4    0.425926  0.331285       0        False               False   \n",
      "..        ...       ...     ...          ...                 ...   \n",
      "142  0.611111  0.448959       0        False               False   \n",
      "143  0.407407  0.809491       1        False               False   \n",
      "145       NaN       NaN       1        False               False   \n",
      "146       NaN       NaN       1        False               False   \n",
      "147       NaN       NaN       0        False               False   \n",
      "\n",
      "     Company_Infosys  Company_Infosys Pvt Lmt  Company_TCS  \\\n",
      "0              False                    False         True   \n",
      "1               True                    False        False   \n",
      "2              False                    False         True   \n",
      "3               True                    False        False   \n",
      "4              False                    False         True   \n",
      "..               ...                      ...          ...   \n",
      "142            False                     True        False   \n",
      "143            False                    False         True   \n",
      "145             True                    False        False   \n",
      "146            False                    False         True   \n",
      "147             True                    False        False   \n",
      "\n",
      "     Company_Tata Consultancy Services  Place_Bhopal  ...  Place_Chennai  \\\n",
      "0                                False         False  ...           True   \n",
      "1                                False         False  ...          False   \n",
      "2                                False         False  ...          False   \n",
      "3                                False         False  ...          False   \n",
      "4                                False         False  ...          False   \n",
      "..                                 ...           ...  ...            ...   \n",
      "142                              False         False  ...          False   \n",
      "143                              False         False  ...          False   \n",
      "145                              False         False  ...          False   \n",
      "146                              False         False  ...          False   \n",
      "147                              False         False  ...          False   \n",
      "\n",
      "     Place_Cochin  Place_Delhi  Place_Hyderabad  Place_Mumbai  Place_Nagpur  \\\n",
      "0           False        False            False         False         False   \n",
      "1           False        False            False          True         False   \n",
      "2           False        False            False         False         False   \n",
      "3           False         True            False         False         False   \n",
      "4           False        False            False          True         False   \n",
      "..            ...          ...              ...           ...           ...   \n",
      "142         False        False            False          True         False   \n",
      "143         False        False            False         False         False   \n",
      "145         False         True            False         False         False   \n",
      "146         False        False            False          True         False   \n",
      "147          True        False            False         False         False   \n",
      "\n",
      "     Place_Noida  Place_Podicherry  Place_Pune  Country_India  \n",
      "0          False             False       False           True  \n",
      "1          False             False       False           True  \n",
      "2          False             False       False           True  \n",
      "3          False             False       False           True  \n",
      "4          False             False       False           True  \n",
      "..           ...               ...         ...            ...  \n",
      "142        False             False       False           True  \n",
      "143        False             False       False           True  \n",
      "145        False             False       False           True  \n",
      "146        False             False       False           True  \n",
      "147        False             False       False           True  \n",
      "\n",
      "[144 rows x 21 columns]\n"
     ]
    }
   ],
   "source": [
    "#dataframe after OneHotEncoding & minmax scaling\n",
    "\n",
    "# Initialize a new DataFrame to store after applying standard scaler\n",
    "df_minmax = one_hot_encoded_data.copy()\n",
    "\n",
    "# Replace scaled columns in the original DataFrame\n",
    "df_minmax[['Age', 'Salary']] = scaled_df\n",
    "\n",
    "# Print the DataFrame with scaled columns replaced by original values\n",
    "print(df_minmax)"
   ]
  },
  {
   "cell_type": "code",
   "execution_count": 11,
   "id": "e00420f8-61a5-4e70-b2bb-aa1a677c1571",
   "metadata": {},
   "outputs": [
    {
     "name": "stdout",
     "output_type": "stream",
     "text": [
      "Q1 salary : 3030.0\n",
      "Q3  SALARY : 8000.0\n"
     ]
    }
   ],
   "source": [
    "Q1_salary=employee_data[\"Salary\"].quantile(0.25)\n",
    "Q3_salary=employee_data[\"Salary\"].quantile(0.75)\n",
    "print(\"Q1 salary :\",Q1_salary)\n",
    "print(\"Q3  SALARY :\",Q3_salary)"
   ]
  },
  {
   "cell_type": "code",
   "execution_count": 12,
   "id": "ae2f09c9-03e5-45af-84ae-4234978973f0",
   "metadata": {},
   "outputs": [
    {
     "data": {
      "text/plain": [
       "4970.0"
      ]
     },
     "execution_count": 12,
     "metadata": {},
     "output_type": "execute_result"
    }
   ],
   "source": [
    "IQR=Q3_salary-Q1_salary\n",
    "IQR"
   ]
  },
  {
   "cell_type": "code",
   "execution_count": 13,
   "id": "94b541fd-1a54-46ee-a36e-efcb6e73cdfa",
   "metadata": {},
   "outputs": [
    {
     "data": {
      "text/plain": [
       "(15455.0, -4425.0)"
      ]
     },
     "execution_count": 13,
     "metadata": {},
     "output_type": "execute_result"
    }
   ],
   "source": [
    "UPPER_WHISKER=Q3_salary+(1.5*IQR)\n",
    "LOWER_WHISKER=Q1_salary-(1.5*IQR)\n",
    "UPPER_WHISKER,LOWER_WHISKER"
   ]
  },
  {
   "cell_type": "code",
   "execution_count": 14,
   "id": "770a1878-0d58-4405-9f68-a84c83dccaf1",
   "metadata": {},
   "outputs": [
    {
     "name": "stdout",
     "output_type": "stream",
     "text": [
      "length of outlier_salary : 124\n",
      "length of original dataset : 148\n"
     ]
    }
   ],
   "source": [
    "outliers_salary=employee_data.loc[(employee_data[\"Salary\"]>LOWER_WHISKER)&(employee_data[\"Salary\"]<UPPER_WHISKER)]\n",
    "print(\"length of outlier_salary :\",len(outliers_salary))\n",
    "print(\"length of original dataset :\",len(employee_data[\"Salary\"]))"
   ]
  },
  {
   "cell_type": "code",
   "execution_count": 15,
   "id": "b691ff24-d13b-486b-940c-4652f5609ea3",
   "metadata": {},
   "outputs": [
    {
     "name": "stdout",
     "output_type": "stream",
     "text": [
      "Q1 : 22.0\n",
      "Q3 : 37.75\n"
     ]
    }
   ],
   "source": [
    "Q1_age=employee_data[\"Age\"].quantile(0.25)\n",
    "Q3_age=employee_data[\"Age\"].quantile(0.75)\n",
    "print(\"Q1 :\",Q1_age)\n",
    "print(\"Q3 :\",Q3_age)"
   ]
  },
  {
   "cell_type": "code",
   "execution_count": 15,
   "id": "52f43735-4fac-42d9-b839-c5673b2bcb66",
   "metadata": {},
   "outputs": [
    {
     "data": {
      "text/plain": [
       "15.75"
      ]
     },
     "execution_count": 15,
     "metadata": {},
     "output_type": "execute_result"
    }
   ],
   "source": [
    "IQR_age=Q3_age-Q1_age\n",
    "IQR_age"
   ]
  },
  {
   "cell_type": "code",
   "execution_count": 17,
   "id": "55bc268e-6687-4f23-b29d-a324af60ef62",
   "metadata": {},
   "outputs": [
    {
     "data": {
      "text/plain": [
       "(61.375, -1.625)"
      ]
     },
     "execution_count": 17,
     "metadata": {},
     "output_type": "execute_result"
    }
   ],
   "source": [
    "upper_whisker=Q3_age+(1.5*IQR_age)\n",
    "lower_whisker=Q1_age-(1.5*IQR_age)\n",
    "upper_whisker,lower_whisker\n"
   ]
  },
  {
   "cell_type": "code",
   "execution_count": 19,
   "id": "6edfe7d0-5d04-4922-8737-a08a73f5c8be",
   "metadata": {},
   "outputs": [
    {
     "name": "stdout",
     "output_type": "stream",
     "text": [
      "length of the value above and below the upper and lower whisker : 130\n",
      "length of old dataset : 148\n"
     ]
    }
   ],
   "source": [
    "outlier_age=employee_data.loc[(employee_data[\"Age\"]>lower_whisker)&(employee_data[\"Age\"]<upper_whisker)]\n",
    "print(\"length of the value above and below the upper and lower whisker :\",len(outlier_age))\n",
    "print(\"length of old dataset :\",len(employee_data[\"Age\"]))"
   ]
  },
  {
   "cell_type": "markdown",
   "id": "74a2dc02-38b6-4fca-91da-16130663dbb9",
   "metadata": {},
   "source": [
    "**there is no outlier in the age column,there is no significant deviation in the age of employee working in fiffrent average age is same for every employees**"
   ]
  },
  {
   "cell_type": "markdown",
   "id": "d15dbcb8-a727-4536-9083-7acd0488c481",
   "metadata": {},
   "source": [
    "# standardScaler"
   ]
  },
  {
   "cell_type": "code",
   "execution_count": 42,
   "id": "ab32c4c9-772c-46ae-887a-96516952827c",
   "metadata": {},
   "outputs": [
    {
     "name": "stdout",
     "output_type": "stream",
     "text": [
      "          Age    Salary  Gender  Company_CTS  Company_Congnizant  \\\n",
      "0   -0.950924       NaN       0            0                   0   \n",
      "1   -0.047653       NaN       0            0                   0   \n",
      "2    0.403983 -1.158779       0            0                   0   \n",
      "3    0.855618 -0.886899       0            0                   0   \n",
      "4   -0.679943 -0.498500       0            0                   0   \n",
      "..        ...       ...     ...          ...                 ...   \n",
      "142  0.223328 -0.096894       0            0                   0   \n",
      "143 -0.770270  1.133555       1            0                   0   \n",
      "145       NaN       NaN       1            0                   0   \n",
      "146       NaN       NaN       1            0                   0   \n",
      "147       NaN       NaN       0            0                   0   \n",
      "\n",
      "     Company_Infosys  Company_Infosys Pvt Lmt  Company_TCS  \\\n",
      "0                  0                        0            1   \n",
      "1                  1                        0            0   \n",
      "2                  0                        0            1   \n",
      "3                  1                        0            0   \n",
      "4                  0                        0            1   \n",
      "..               ...                      ...          ...   \n",
      "142                0                        1            0   \n",
      "143                0                        0            1   \n",
      "145                1                        0            0   \n",
      "146                0                        0            1   \n",
      "147                1                        0            0   \n",
      "\n",
      "     Company_Tata Consultancy Services  Place_Bhopal  ...  Place_Chennai  \\\n",
      "0                                    0             0  ...              1   \n",
      "1                                    0             0  ...              0   \n",
      "2                                    0             0  ...              0   \n",
      "3                                    0             0  ...              0   \n",
      "4                                    0             0  ...              0   \n",
      "..                                 ...           ...  ...            ...   \n",
      "142                                  0             0  ...              0   \n",
      "143                                  0             0  ...              0   \n",
      "145                                  0             0  ...              0   \n",
      "146                                  0             0  ...              0   \n",
      "147                                  0             0  ...              0   \n",
      "\n",
      "     Place_Cochin  Place_Delhi  Place_Hyderabad  Place_Mumbai  Place_Nagpur  \\\n",
      "0               0            0                0             0             0   \n",
      "1               0            0                0             1             0   \n",
      "2               0            0                0             0             0   \n",
      "3               0            1                0             0             0   \n",
      "4               0            0                0             1             0   \n",
      "..            ...          ...              ...           ...           ...   \n",
      "142             0            0                0             1             0   \n",
      "143             0            0                0             0             0   \n",
      "145             0            1                0             0             0   \n",
      "146             0            0                0             1             0   \n",
      "147             1            0                0             0             0   \n",
      "\n",
      "     Place_Noida  Place_Podicherry  Place_Pune  Country_India  \n",
      "0              0                 0           0              1  \n",
      "1              0                 0           0              1  \n",
      "2              0                 0           0              1  \n",
      "3              0                 0           0              1  \n",
      "4              0                 0           0              1  \n",
      "..           ...               ...         ...            ...  \n",
      "142            0                 0           0              1  \n",
      "143            0                 0           0              1  \n",
      "145            0                 0           0              1  \n",
      "146            0                 0           0              1  \n",
      "147            0                 0           0              1  \n",
      "\n",
      "[144 rows x 21 columns]\n"
     ]
    }
   ],
   "source": [
    "from sklearn.preprocessing import StandardScaler\n",
    "\n",
    "Columns_to_Scale=employee_data[['Age','Salary']]\n",
    "# Create a scaler object\n",
    "scaler = StandardScaler()\n",
    "\n",
    "# Fit the scaler on the data\n",
    "scaler.fit(Columns_to_Scale)\n",
    "\n",
    "# Transform the data\n",
    "scaled_data = scaler.transform(Columns_to_Scale)\n",
    "\n",
    "# Convert scaled data to DataFrame\n",
    "scaled_df = pd.DataFrame(scaled_data, columns=['Age', 'Salary'])\n",
    "\n",
    "# Initialize a new DataFrame to store after applying standard scaler\n",
    "df_standard = employee_data.copy()\n",
    "\n",
    "# Replace scaled columns in the original DataFrame\n",
    "df_standard[['Age', 'Salary']] = scaled_df\n",
    "\n",
    "# Print the DataFrame with scaled columns replaced by original values\n",
    "print(df_standard)"
   ]
  },
  {
   "cell_type": "code",
   "execution_count": 43,
   "id": "512c35b3-5e7d-4452-bf82-7751226828e5",
   "metadata": {},
   "outputs": [
    {
     "name": "stdout",
     "output_type": "stream",
     "text": [
      "     Company       Age    Salary  Place  Country  Gender\n",
      "0          4 -0.950924       NaN      2        0       0\n",
      "1          2 -0.047653       NaN      6        0       0\n",
      "2          4  0.403983 -1.158779      1        0       0\n",
      "3          2  0.855618 -0.886899      4        0       0\n",
      "4          4 -0.679943 -0.498500      6        0       0\n",
      "..       ...       ...       ...    ...      ...     ...\n",
      "142        3  0.223328 -0.096894      6        0       0\n",
      "143        4 -0.770270  1.133555      1        0       1\n",
      "145        2       NaN       NaN      4        0       1\n",
      "146        4       NaN       NaN      6        0       1\n",
      "147        2       NaN       NaN      3        0       0\n",
      "\n",
      "[144 rows x 6 columns]\n"
     ]
    }
   ],
   "source": [
    "#dataframe after label encoding & standard scaling\n",
    "\n",
    "\n",
    "# Initialize a new DataFrame to store after applying standard scaler\n",
    "df_standard = df_label_encoded.copy()\n",
    "\n",
    "# Replace scaled columns in the original DataFrame\n",
    "df_standard[['Age', 'Salary']] = scaled_df\n",
    "\n",
    "# Print the DataFrame with scaled columns replaced by original values\n",
    "print(df_standard)"
   ]
  },
  {
   "cell_type": "code",
   "execution_count": 45,
   "id": "d2605db4-7063-4b91-b8cc-9069735c438b",
   "metadata": {},
   "outputs": [
    {
     "name": "stdout",
     "output_type": "stream",
     "text": [
      "          Age    Salary  Gender  Company_CTS  Company_Congnizant  \\\n",
      "0   -0.950924       NaN       0        False               False   \n",
      "1   -0.047653       NaN       0        False               False   \n",
      "2    0.403983 -1.158779       0        False               False   \n",
      "3    0.855618 -0.886899       0        False               False   \n",
      "4   -0.679943 -0.498500       0        False               False   \n",
      "..        ...       ...     ...          ...                 ...   \n",
      "142  0.223328 -0.096894       0        False               False   \n",
      "143 -0.770270  1.133555       1        False               False   \n",
      "145       NaN       NaN       1        False               False   \n",
      "146       NaN       NaN       1        False               False   \n",
      "147       NaN       NaN       0        False               False   \n",
      "\n",
      "     Company_Infosys  Company_Infosys Pvt Lmt  Company_TCS  \\\n",
      "0              False                    False         True   \n",
      "1               True                    False        False   \n",
      "2              False                    False         True   \n",
      "3               True                    False        False   \n",
      "4              False                    False         True   \n",
      "..               ...                      ...          ...   \n",
      "142            False                     True        False   \n",
      "143            False                    False         True   \n",
      "145             True                    False        False   \n",
      "146            False                    False         True   \n",
      "147             True                    False        False   \n",
      "\n",
      "     Company_Tata Consultancy Services  Place_Bhopal  ...  Place_Chennai  \\\n",
      "0                                False         False  ...           True   \n",
      "1                                False         False  ...          False   \n",
      "2                                False         False  ...          False   \n",
      "3                                False         False  ...          False   \n",
      "4                                False         False  ...          False   \n",
      "..                                 ...           ...  ...            ...   \n",
      "142                              False         False  ...          False   \n",
      "143                              False         False  ...          False   \n",
      "145                              False         False  ...          False   \n",
      "146                              False         False  ...          False   \n",
      "147                              False         False  ...          False   \n",
      "\n",
      "     Place_Cochin  Place_Delhi  Place_Hyderabad  Place_Mumbai  Place_Nagpur  \\\n",
      "0           False        False            False         False         False   \n",
      "1           False        False            False          True         False   \n",
      "2           False        False            False         False         False   \n",
      "3           False         True            False         False         False   \n",
      "4           False        False            False          True         False   \n",
      "..            ...          ...              ...           ...           ...   \n",
      "142         False        False            False          True         False   \n",
      "143         False        False            False         False         False   \n",
      "145         False         True            False         False         False   \n",
      "146         False        False            False          True         False   \n",
      "147          True        False            False         False         False   \n",
      "\n",
      "     Place_Noida  Place_Podicherry  Place_Pune  Country_India  \n",
      "0          False             False       False           True  \n",
      "1          False             False       False           True  \n",
      "2          False             False       False           True  \n",
      "3          False             False       False           True  \n",
      "4          False             False       False           True  \n",
      "..           ...               ...         ...            ...  \n",
      "142        False             False       False           True  \n",
      "143        False             False       False           True  \n",
      "145        False             False       False           True  \n",
      "146        False             False       False           True  \n",
      "147        False             False       False           True  \n",
      "\n",
      "[144 rows x 21 columns]\n"
     ]
    }
   ],
   "source": [
    "#dataframe after OneHotEncoding & standard scaling\n",
    "\n",
    "# Initialize a new DataFrame to store after applying standard scaler\n",
    "df_standard = one_hot_encoded_data.copy()\n",
    "\n",
    "# Replace scaled columns in the original DataFrame\n",
    "df_standard[['Age', 'Salary']] = scaled_df\n",
    "\n",
    "# Print the DataFrame with scaled columns replaced by original values\n",
    "print(df_standard)"
   ]
  },
  {
   "cell_type": "code",
   "execution_count": null,
   "id": "2512d4ab-2830-473e-abe4-7771880104d7",
   "metadata": {},
   "outputs": [],
   "source": []
  }
 ],
 "metadata": {
  "kernelspec": {
   "display_name": "Python 3 (ipykernel)",
   "language": "python",
   "name": "python3"
  },
  "language_info": {
   "codemirror_mode": {
    "name": "ipython",
    "version": 3
   },
   "file_extension": ".py",
   "mimetype": "text/x-python",
   "name": "python",
   "nbconvert_exporter": "python",
   "pygments_lexer": "ipython3",
   "version": "3.11.5"
  }
 },
 "nbformat": 4,
 "nbformat_minor": 5
}
